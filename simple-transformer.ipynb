{
 "cells": [
  {
   "cell_type": "code",
   "execution_count": 1,
   "id": "a9d02a91-3ffd-42e9-a387-21b50789cf43",
   "metadata": {},
   "outputs": [
    {
     "name": "stdout",
     "output_type": "stream",
     "text": [
      "Collecting simpletransformers\n",
      "  Downloading simpletransformers-0.63.11-py3-none-any.whl (250 kB)\n",
      "\u001b[2K     \u001b[38;2;114;156;31m━━━━━━━━━━━━━━━━━━━━━━━━━━━━━━━━━━━━━━━\u001b[0m \u001b[32m250.7/250.7 kB\u001b[0m \u001b[31m1.8 MB/s\u001b[0m eta \u001b[36m0:00:00\u001b[0m[31m2.0 MB/s\u001b[0m eta \u001b[36m0:00:01\u001b[0m\n",
      "\u001b[?25hRequirement already satisfied: numpy in /home/rajaraman/miniconda3/envs/dl39/lib/python3.9/site-packages (from simpletransformers) (1.24.4)\n",
      "Requirement already satisfied: requests in /home/rajaraman/miniconda3/envs/dl39/lib/python3.9/site-packages (from simpletransformers) (2.31.0)\n",
      "Requirement already satisfied: tqdm>=4.47.0 in /home/rajaraman/miniconda3/envs/dl39/lib/python3.9/site-packages (from simpletransformers) (4.64.1)\n",
      "Requirement already satisfied: regex in /home/rajaraman/miniconda3/envs/dl39/lib/python3.9/site-packages (from simpletransformers) (2023.6.3)\n",
      "Requirement already satisfied: transformers>=4.6.0 in /home/rajaraman/miniconda3/envs/dl39/lib/python3.9/site-packages (from simpletransformers) (4.31.0)\n",
      "Requirement already satisfied: datasets in /home/rajaraman/miniconda3/envs/dl39/lib/python3.9/site-packages (from simpletransformers) (2.14.1)\n",
      "Requirement already satisfied: scipy in /home/rajaraman/miniconda3/envs/dl39/lib/python3.9/site-packages (from simpletransformers) (1.11.1)\n",
      "Requirement already satisfied: scikit-learn in /home/rajaraman/miniconda3/envs/dl39/lib/python3.9/site-packages (from simpletransformers) (1.3.0)\n",
      "Requirement already satisfied: seqeval in /home/rajaraman/miniconda3/envs/dl39/lib/python3.9/site-packages (from simpletransformers) (1.2.2)\n",
      "Collecting tensorboard (from simpletransformers)\n",
      "  Downloading tensorboard-2.13.0-py3-none-any.whl (5.6 MB)\n",
      "\u001b[2K     \u001b[38;2;114;156;31m━━━━━━━━━━━━━━━━━━━━━━━━━━━━━━━━━━━━━━━━\u001b[0m \u001b[32m5.6/5.6 MB\u001b[0m \u001b[31m3.5 MB/s\u001b[0m eta \u001b[36m0:00:00\u001b[0mm eta \u001b[36m0:00:01\u001b[0m[36m0:00:01\u001b[0mm\n",
      "\u001b[?25hRequirement already satisfied: pandas in /home/rajaraman/miniconda3/envs/dl39/lib/python3.9/site-packages (from simpletransformers) (2.0.3)\n",
      "Requirement already satisfied: tokenizers in /home/rajaraman/miniconda3/envs/dl39/lib/python3.9/site-packages (from simpletransformers) (0.13.3)\n",
      "Collecting wandb>=0.10.32 (from simpletransformers)\n",
      "  Obtaining dependency information for wandb>=0.10.32 from https://files.pythonhosted.org/packages/e1/13/44dda105177622788af8f5da6f9358ecd6fa46e80caa3f4a01ba02cf63d3/wandb-0.15.7-py3-none-any.whl.metadata\n",
      "  Downloading wandb-0.15.7-py3-none-any.whl.metadata (8.2 kB)\n",
      "Collecting streamlit (from simpletransformers)\n",
      "  Obtaining dependency information for streamlit from https://files.pythonhosted.org/packages/20/fb/c52ddcedbb0cb142ab6f22b6d1ccee6162ade7d61ca139bc064168262ced/streamlit-1.25.0-py2.py3-none-any.whl.metadata\n",
      "  Downloading streamlit-1.25.0-py2.py3-none-any.whl.metadata (8.1 kB)\n",
      "Requirement already satisfied: sentencepiece in /home/rajaraman/miniconda3/envs/dl39/lib/python3.9/site-packages (from simpletransformers) (0.1.99)\n",
      "Requirement already satisfied: filelock in /home/rajaraman/miniconda3/envs/dl39/lib/python3.9/site-packages (from transformers>=4.6.0->simpletransformers) (3.12.2)\n",
      "Requirement already satisfied: huggingface-hub<1.0,>=0.14.1 in /home/rajaraman/miniconda3/envs/dl39/lib/python3.9/site-packages (from transformers>=4.6.0->simpletransformers) (0.16.4)\n",
      "Requirement already satisfied: packaging>=20.0 in /home/rajaraman/miniconda3/envs/dl39/lib/python3.9/site-packages (from transformers>=4.6.0->simpletransformers) (23.1)\n",
      "Requirement already satisfied: pyyaml>=5.1 in /home/rajaraman/miniconda3/envs/dl39/lib/python3.9/site-packages (from transformers>=4.6.0->simpletransformers) (6.0.1)\n",
      "Requirement already satisfied: safetensors>=0.3.1 in /home/rajaraman/miniconda3/envs/dl39/lib/python3.9/site-packages (from transformers>=4.6.0->simpletransformers) (0.3.1)\n",
      "Requirement already satisfied: Click!=8.0.0,>=7.1 in /home/rajaraman/miniconda3/envs/dl39/lib/python3.9/site-packages (from wandb>=0.10.32->simpletransformers) (8.1.6)\n",
      "Collecting GitPython!=3.1.29,>=1.0.0 (from wandb>=0.10.32->simpletransformers)\n",
      "  Obtaining dependency information for GitPython!=3.1.29,>=1.0.0 from https://files.pythonhosted.org/packages/67/50/742c2fb60989b76ccf7302c7b1d9e26505d7054c24f08cc7ec187faaaea7/GitPython-3.1.32-py3-none-any.whl.metadata\n",
      "  Downloading GitPython-3.1.32-py3-none-any.whl.metadata (10.0 kB)\n",
      "Requirement already satisfied: psutil>=5.0.0 in /home/rajaraman/miniconda3/envs/dl39/lib/python3.9/site-packages (from wandb>=0.10.32->simpletransformers) (5.9.5)\n",
      "Collecting sentry-sdk>=1.0.0 (from wandb>=0.10.32->simpletransformers)\n",
      "  Obtaining dependency information for sentry-sdk>=1.0.0 from https://files.pythonhosted.org/packages/8b/ef/cee575cda78f419a76ac9be4830f136c16bc2d90f00720f03b70bf7d8a6d/sentry_sdk-1.28.1-py2.py3-none-any.whl.metadata\n",
      "  Downloading sentry_sdk-1.28.1-py2.py3-none-any.whl.metadata (8.8 kB)\n",
      "Collecting docker-pycreds>=0.4.0 (from wandb>=0.10.32->simpletransformers)\n",
      "  Downloading docker_pycreds-0.4.0-py2.py3-none-any.whl (9.0 kB)\n",
      "Collecting pathtools (from wandb>=0.10.32->simpletransformers)\n",
      "  Downloading pathtools-0.1.2.tar.gz (11 kB)\n",
      "  Preparing metadata (setup.py) ... \u001b[?25ldone\n",
      "\u001b[?25hCollecting setproctitle (from wandb>=0.10.32->simpletransformers)\n",
      "  Downloading setproctitle-1.3.2-cp39-cp39-manylinux_2_5_x86_64.manylinux1_x86_64.manylinux_2_17_x86_64.manylinux2014_x86_64.whl (30 kB)\n",
      "Requirement already satisfied: setuptools in /home/rajaraman/miniconda3/envs/dl39/lib/python3.9/site-packages (from wandb>=0.10.32->simpletransformers) (68.0.0)\n",
      "Collecting appdirs>=1.4.3 (from wandb>=0.10.32->simpletransformers)\n",
      "  Using cached appdirs-1.4.4-py2.py3-none-any.whl (9.6 kB)\n",
      "Requirement already satisfied: typing-extensions in /home/rajaraman/miniconda3/envs/dl39/lib/python3.9/site-packages (from wandb>=0.10.32->simpletransformers) (4.7.1)\n",
      "Collecting protobuf!=4.21.0,<5,>=3.15.0 (from wandb>=0.10.32->simpletransformers)\n",
      "  Obtaining dependency information for protobuf!=4.21.0,<5,>=3.15.0 from https://files.pythonhosted.org/packages/01/cb/445b3e465abdb8042a41957dc8f60c54620dc7540dbcf9b458a921531ca2/protobuf-4.23.4-cp37-abi3-manylinux2014_x86_64.whl.metadata\n",
      "  Downloading protobuf-4.23.4-cp37-abi3-manylinux2014_x86_64.whl.metadata (540 bytes)\n",
      "Requirement already satisfied: charset-normalizer<4,>=2 in /home/rajaraman/miniconda3/envs/dl39/lib/python3.9/site-packages (from requests->simpletransformers) (3.2.0)\n",
      "Requirement already satisfied: idna<4,>=2.5 in /home/rajaraman/miniconda3/envs/dl39/lib/python3.9/site-packages (from requests->simpletransformers) (3.4)\n",
      "Requirement already satisfied: urllib3<3,>=1.21.1 in /home/rajaraman/miniconda3/envs/dl39/lib/python3.9/site-packages (from requests->simpletransformers) (2.0.4)\n",
      "Requirement already satisfied: certifi>=2017.4.17 in /home/rajaraman/miniconda3/envs/dl39/lib/python3.9/site-packages (from requests->simpletransformers) (2023.7.22)\n",
      "Requirement already satisfied: pyarrow>=8.0.0 in /home/rajaraman/miniconda3/envs/dl39/lib/python3.9/site-packages (from datasets->simpletransformers) (12.0.1)\n",
      "Requirement already satisfied: dill<0.3.8,>=0.3.0 in /home/rajaraman/miniconda3/envs/dl39/lib/python3.9/site-packages (from datasets->simpletransformers) (0.3.7)\n",
      "Requirement already satisfied: xxhash in /home/rajaraman/miniconda3/envs/dl39/lib/python3.9/site-packages (from datasets->simpletransformers) (3.3.0)\n",
      "Requirement already satisfied: multiprocess in /home/rajaraman/miniconda3/envs/dl39/lib/python3.9/site-packages (from datasets->simpletransformers) (0.70.15)\n",
      "Requirement already satisfied: fsspec[http]>=2021.11.1 in /home/rajaraman/miniconda3/envs/dl39/lib/python3.9/site-packages (from datasets->simpletransformers) (2023.6.0)\n",
      "Requirement already satisfied: aiohttp in /home/rajaraman/miniconda3/envs/dl39/lib/python3.9/site-packages (from datasets->simpletransformers) (3.8.5)\n",
      "Requirement already satisfied: python-dateutil>=2.8.2 in /home/rajaraman/miniconda3/envs/dl39/lib/python3.9/site-packages (from pandas->simpletransformers) (2.8.2)\n",
      "Requirement already satisfied: pytz>=2020.1 in /home/rajaraman/miniconda3/envs/dl39/lib/python3.9/site-packages (from pandas->simpletransformers) (2023.3)\n",
      "Requirement already satisfied: tzdata>=2022.1 in /home/rajaraman/miniconda3/envs/dl39/lib/python3.9/site-packages (from pandas->simpletransformers) (2023.3)\n",
      "Requirement already satisfied: joblib>=1.1.1 in /home/rajaraman/miniconda3/envs/dl39/lib/python3.9/site-packages (from scikit-learn->simpletransformers) (1.3.1)\n",
      "Requirement already satisfied: threadpoolctl>=2.0.0 in /home/rajaraman/miniconda3/envs/dl39/lib/python3.9/site-packages (from scikit-learn->simpletransformers) (3.2.0)\n",
      "Collecting altair<6,>=4.0 (from streamlit->simpletransformers)\n",
      "  Obtaining dependency information for altair<6,>=4.0 from https://files.pythonhosted.org/packages/b2/20/5c3b89d6f8d9938325a9330793438389e0dc94c34d921f6da35ec62095f3/altair-5.0.1-py3-none-any.whl.metadata\n",
      "  Downloading altair-5.0.1-py3-none-any.whl.metadata (8.5 kB)\n",
      "Collecting blinker<2,>=1.0.0 (from streamlit->simpletransformers)\n",
      "  Downloading blinker-1.6.2-py3-none-any.whl (13 kB)\n",
      "Collecting cachetools<6,>=4.0 (from streamlit->simpletransformers)\n",
      "  Obtaining dependency information for cachetools<6,>=4.0 from https://files.pythonhosted.org/packages/a9/c9/c8a7710f2cedcb1db9224fdd4d8307c9e48cbddc46c18b515fefc0f1abbe/cachetools-5.3.1-py3-none-any.whl.metadata\n",
      "  Downloading cachetools-5.3.1-py3-none-any.whl.metadata (5.2 kB)\n",
      "Requirement already satisfied: importlib-metadata<7,>=1.4 in /home/rajaraman/miniconda3/envs/dl39/lib/python3.9/site-packages (from streamlit->simpletransformers) (6.8.0)\n",
      "Collecting pillow<10,>=7.1.0 (from streamlit->simpletransformers)\n",
      "  Downloading Pillow-9.5.0-cp39-cp39-manylinux_2_28_x86_64.whl (3.4 MB)\n",
      "\u001b[2K     \u001b[38;2;114;156;31m━━━━━━━━━━━━━━━━━━━━━━━━━━━━━━━━━━━━━━━━\u001b[0m \u001b[32m3.4/3.4 MB\u001b[0m \u001b[31m9.5 MB/s\u001b[0m eta \u001b[36m0:00:00\u001b[0mm eta \u001b[36m0:00:01\u001b[0m\u001b[36m0:00:01\u001b[0m\n",
      "\u001b[?25hCollecting pympler<2,>=0.9 (from streamlit->simpletransformers)\n",
      "  Downloading Pympler-1.0.1-py3-none-any.whl (164 kB)\n",
      "\u001b[2K     \u001b[38;2;114;156;31m━━━━━━━━━━━━━━━━━━━━━━━━━━━━━━━━━━━━━━\u001b[0m \u001b[32m164.8/164.8 kB\u001b[0m \u001b[31m10.9 MB/s\u001b[0m eta \u001b[36m0:00:00\u001b[0m\n",
      "\u001b[?25hCollecting rich<14,>=10.14.0 (from streamlit->simpletransformers)\n",
      "  Obtaining dependency information for rich<14,>=10.14.0 from https://files.pythonhosted.org/packages/cf/2c/aa1418e8fafb5489c6fbfb36ba6afc1be72b196419bdea0c501487743740/rich-13.5.0-py3-none-any.whl.metadata\n",
      "  Downloading rich-13.5.0-py3-none-any.whl.metadata (18 kB)\n",
      "Collecting tenacity<9,>=8.1.0 (from streamlit->simpletransformers)\n",
      "  Using cached tenacity-8.2.2-py3-none-any.whl (24 kB)\n",
      "Collecting toml<2,>=0.10.1 (from streamlit->simpletransformers)\n",
      "  Using cached toml-0.10.2-py2.py3-none-any.whl (16 kB)\n",
      "Collecting tzlocal<5,>=1.1 (from streamlit->simpletransformers)\n",
      "  Obtaining dependency information for tzlocal<5,>=1.1 from https://files.pythonhosted.org/packages/55/a6/a75af44665e5e77e52f6789eef4f8bc056c8e039d96c804b975806942580/tzlocal-4.3.1-py3-none-any.whl.metadata\n",
      "  Downloading tzlocal-4.3.1-py3-none-any.whl.metadata (14 kB)\n",
      "Collecting validators<1,>=0.2 (from streamlit->simpletransformers)\n",
      "  Downloading validators-0.20.0.tar.gz (30 kB)\n",
      "  Preparing metadata (setup.py) ... \u001b[?25ldone\n",
      "\u001b[?25hCollecting pydeck<1,>=0.8 (from streamlit->simpletransformers)\n",
      "  Downloading pydeck-0.8.0-py2.py3-none-any.whl (4.7 MB)\n",
      "\u001b[2K     \u001b[38;2;114;156;31m━━━━━━━━━━━━━━━━━━━━━━━━━━━━━━━━━━━━━━━━\u001b[0m \u001b[32m4.7/4.7 MB\u001b[0m \u001b[31m7.3 MB/s\u001b[0m eta \u001b[36m0:00:00\u001b[0m[36m0:00:01\u001b[0m[36m0:00:01\u001b[0m:01\u001b[0mm\n",
      "\u001b[?25hRequirement already satisfied: tornado<7,>=6.0.3 in /home/rajaraman/miniconda3/envs/dl39/lib/python3.9/site-packages (from streamlit->simpletransformers) (6.3.2)\n",
      "Collecting watchdog>=2.1.5 (from streamlit->simpletransformers)\n",
      "  Downloading watchdog-3.0.0-py3-none-manylinux2014_x86_64.whl (82 kB)\n",
      "\u001b[2K     \u001b[38;2;114;156;31m━━━━━━━━━━━━━━━━━━━━━━━━━━━━━━━━━━━━━━━━\u001b[0m \u001b[32m82.1/82.1 kB\u001b[0m \u001b[31m8.3 MB/s\u001b[0m eta \u001b[36m0:00:00\u001b[0m\n",
      "\u001b[?25hCollecting absl-py>=0.4 (from tensorboard->simpletransformers)\n",
      "  Downloading absl_py-1.4.0-py3-none-any.whl (126 kB)\n",
      "\u001b[2K     \u001b[38;2;114;156;31m━━━━━━━━━━━━━━━━━━━━━━━━━━━━━━━━━━━━━━\u001b[0m \u001b[32m126.5/126.5 kB\u001b[0m \u001b[31m12.9 MB/s\u001b[0m eta \u001b[36m0:00:00\u001b[0m\n",
      "\u001b[?25hCollecting grpcio>=1.48.2 (from tensorboard->simpletransformers)\n",
      "  Obtaining dependency information for grpcio>=1.48.2 from https://files.pythonhosted.org/packages/f5/f6/57fbd39af17aaae321109411ef2faf121768473ebc1bbf3694b06d3282c8/grpcio-1.56.2-cp39-cp39-manylinux_2_17_x86_64.manylinux2014_x86_64.whl.metadata\n",
      "  Downloading grpcio-1.56.2-cp39-cp39-manylinux_2_17_x86_64.manylinux2014_x86_64.whl.metadata (4.0 kB)\n",
      "Collecting google-auth<3,>=1.6.3 (from tensorboard->simpletransformers)\n",
      "  Obtaining dependency information for google-auth<3,>=1.6.3 from https://files.pythonhosted.org/packages/9c/8d/bff87fc722553a5691d8514da5523c23547f3894189ba03b57592e37bdc2/google_auth-2.22.0-py2.py3-none-any.whl.metadata\n",
      "  Downloading google_auth-2.22.0-py2.py3-none-any.whl.metadata (4.2 kB)\n",
      "Collecting google-auth-oauthlib<1.1,>=0.5 (from tensorboard->simpletransformers)\n",
      "  Downloading google_auth_oauthlib-1.0.0-py2.py3-none-any.whl (18 kB)\n",
      "Collecting markdown>=2.6.8 (from tensorboard->simpletransformers)\n",
      "  Obtaining dependency information for markdown>=2.6.8 from https://files.pythonhosted.org/packages/1a/b5/228c1cdcfe138f1a8e01ab1b54284c8b83735476cb22b6ba251656ed13ad/Markdown-3.4.4-py3-none-any.whl.metadata\n",
      "  Downloading Markdown-3.4.4-py3-none-any.whl.metadata (6.9 kB)\n",
      "Collecting tensorboard-data-server<0.8.0,>=0.7.0 (from tensorboard->simpletransformers)\n",
      "  Obtaining dependency information for tensorboard-data-server<0.8.0,>=0.7.0 from https://files.pythonhosted.org/packages/02/52/fb9e51fba47951aabd7a6b25e41d73eae94208ccf62d886168096941a781/tensorboard_data_server-0.7.1-py3-none-manylinux2014_x86_64.whl.metadata\n",
      "  Downloading tensorboard_data_server-0.7.1-py3-none-manylinux2014_x86_64.whl.metadata (1.1 kB)\n",
      "Collecting werkzeug>=1.0.1 (from tensorboard->simpletransformers)\n",
      "  Obtaining dependency information for werkzeug>=1.0.1 from https://files.pythonhosted.org/packages/ba/d6/8040faecaba2feb84e1647af174b3243c9b90c163c7ea407820839931efe/Werkzeug-2.3.6-py3-none-any.whl.metadata\n",
      "  Downloading Werkzeug-2.3.6-py3-none-any.whl.metadata (4.1 kB)\n",
      "Requirement already satisfied: wheel>=0.26 in /home/rajaraman/miniconda3/envs/dl39/lib/python3.9/site-packages (from tensorboard->simpletransformers) (0.38.4)\n",
      "Requirement already satisfied: jinja2 in /home/rajaraman/miniconda3/envs/dl39/lib/python3.9/site-packages (from altair<6,>=4.0->streamlit->simpletransformers) (3.1.2)\n",
      "Requirement already satisfied: jsonschema>=3.0 in /home/rajaraman/miniconda3/envs/dl39/lib/python3.9/site-packages (from altair<6,>=4.0->streamlit->simpletransformers) (4.18.4)\n",
      "Collecting toolz (from altair<6,>=4.0->streamlit->simpletransformers)\n",
      "  Downloading toolz-0.12.0-py3-none-any.whl (55 kB)\n",
      "\u001b[2K     \u001b[38;2;114;156;31m━━━━━━━━━━━━━━━━━━━━━━━━━━━━━━━━━━━━━━━━\u001b[0m \u001b[32m55.8/55.8 kB\u001b[0m \u001b[31m12.3 MB/s\u001b[0m eta \u001b[36m0:00:00\u001b[0m\n",
      "\u001b[?25hRequirement already satisfied: six>=1.4.0 in /home/rajaraman/miniconda3/envs/dl39/lib/python3.9/site-packages (from docker-pycreds>=0.4.0->wandb>=0.10.32->simpletransformers) (1.16.0)\n",
      "Requirement already satisfied: attrs>=17.3.0 in /home/rajaraman/miniconda3/envs/dl39/lib/python3.9/site-packages (from aiohttp->datasets->simpletransformers) (23.1.0)\n",
      "Requirement already satisfied: multidict<7.0,>=4.5 in /home/rajaraman/miniconda3/envs/dl39/lib/python3.9/site-packages (from aiohttp->datasets->simpletransformers) (6.0.4)\n",
      "Requirement already satisfied: async-timeout<5.0,>=4.0.0a3 in /home/rajaraman/miniconda3/envs/dl39/lib/python3.9/site-packages (from aiohttp->datasets->simpletransformers) (4.0.2)\n",
      "Requirement already satisfied: yarl<2.0,>=1.0 in /home/rajaraman/miniconda3/envs/dl39/lib/python3.9/site-packages (from aiohttp->datasets->simpletransformers) (1.9.2)\n",
      "Requirement already satisfied: frozenlist>=1.1.1 in /home/rajaraman/miniconda3/envs/dl39/lib/python3.9/site-packages (from aiohttp->datasets->simpletransformers) (1.4.0)\n",
      "Requirement already satisfied: aiosignal>=1.1.2 in /home/rajaraman/miniconda3/envs/dl39/lib/python3.9/site-packages (from aiohttp->datasets->simpletransformers) (1.3.1)\n",
      "Collecting gitdb<5,>=4.0.1 (from GitPython!=3.1.29,>=1.0.0->wandb>=0.10.32->simpletransformers)\n",
      "  Using cached gitdb-4.0.10-py3-none-any.whl (62 kB)\n",
      "Collecting pyasn1-modules>=0.2.1 (from google-auth<3,>=1.6.3->tensorboard->simpletransformers)\n",
      "  Downloading pyasn1_modules-0.3.0-py2.py3-none-any.whl (181 kB)\n",
      "\u001b[2K     \u001b[38;2;114;156;31m━━━━━━━━━━━━━━━━━━━━━━━━━━━━━━━━━━━━━━\u001b[0m \u001b[32m181.3/181.3 kB\u001b[0m \u001b[31m13.5 MB/s\u001b[0m eta \u001b[36m0:00:00\u001b[0m\n",
      "\u001b[?25hCollecting rsa<5,>=3.1.4 (from google-auth<3,>=1.6.3->tensorboard->simpletransformers)\n",
      "  Downloading rsa-4.9-py3-none-any.whl (34 kB)\n",
      "Collecting urllib3<3,>=1.21.1 (from requests->simpletransformers)\n",
      "  Obtaining dependency information for urllib3<3,>=1.21.1 from https://files.pythonhosted.org/packages/c5/05/c214b32d21c0b465506f95c4f28ccbcba15022e000b043b72b3df7728471/urllib3-1.26.16-py2.py3-none-any.whl.metadata\n",
      "  Downloading urllib3-1.26.16-py2.py3-none-any.whl.metadata (48 kB)\n",
      "\u001b[2K     \u001b[38;2;114;156;31m━━━━━━━━━━━━━━━━━━━━━━━━━━━━━━━━━━━━━━━━\u001b[0m \u001b[32m48.4/48.4 kB\u001b[0m \u001b[31m16.9 MB/s\u001b[0m eta \u001b[36m0:00:00\u001b[0m\n",
      "\u001b[?25hCollecting requests-oauthlib>=0.7.0 (from google-auth-oauthlib<1.1,>=0.5->tensorboard->simpletransformers)\n",
      "  Using cached requests_oauthlib-1.3.1-py2.py3-none-any.whl (23 kB)\n",
      "Requirement already satisfied: zipp>=0.5 in /home/rajaraman/miniconda3/envs/dl39/lib/python3.9/site-packages (from importlib-metadata<7,>=1.4->streamlit->simpletransformers) (3.16.2)\n",
      "Collecting markdown-it-py>=2.2.0 (from rich<14,>=10.14.0->streamlit->simpletransformers)\n",
      "  Obtaining dependency information for markdown-it-py>=2.2.0 from https://files.pythonhosted.org/packages/42/d7/1ec15b46af6af88f19b8e5ffea08fa375d433c998b8a7639e76935c14f1f/markdown_it_py-3.0.0-py3-none-any.whl.metadata\n",
      "  Downloading markdown_it_py-3.0.0-py3-none-any.whl.metadata (6.9 kB)\n",
      "Requirement already satisfied: pygments<3.0.0,>=2.13.0 in /home/rajaraman/miniconda3/envs/dl39/lib/python3.9/site-packages (from rich<14,>=10.14.0->streamlit->simpletransformers) (2.15.1)\n",
      "Collecting pytz-deprecation-shim (from tzlocal<5,>=1.1->streamlit->simpletransformers)\n",
      "  Downloading pytz_deprecation_shim-0.1.0.post0-py2.py3-none-any.whl (15 kB)\n",
      "Requirement already satisfied: decorator>=3.4.0 in /home/rajaraman/miniconda3/envs/dl39/lib/python3.9/site-packages (from validators<1,>=0.2->streamlit->simpletransformers) (5.1.1)\n",
      "Requirement already satisfied: MarkupSafe>=2.1.1 in /home/rajaraman/miniconda3/envs/dl39/lib/python3.9/site-packages (from werkzeug>=1.0.1->tensorboard->simpletransformers) (2.1.3)\n",
      "Collecting smmap<6,>=3.0.1 (from gitdb<5,>=4.0.1->GitPython!=3.1.29,>=1.0.0->wandb>=0.10.32->simpletransformers)\n",
      "  Using cached smmap-5.0.0-py3-none-any.whl (24 kB)\n",
      "Requirement already satisfied: jsonschema-specifications>=2023.03.6 in /home/rajaraman/miniconda3/envs/dl39/lib/python3.9/site-packages (from jsonschema>=3.0->altair<6,>=4.0->streamlit->simpletransformers) (2023.7.1)\n",
      "Requirement already satisfied: referencing>=0.28.4 in /home/rajaraman/miniconda3/envs/dl39/lib/python3.9/site-packages (from jsonschema>=3.0->altair<6,>=4.0->streamlit->simpletransformers) (0.30.0)\n",
      "Requirement already satisfied: rpds-py>=0.7.1 in /home/rajaraman/miniconda3/envs/dl39/lib/python3.9/site-packages (from jsonschema>=3.0->altair<6,>=4.0->streamlit->simpletransformers) (0.9.2)\n",
      "Collecting mdurl~=0.1 (from markdown-it-py>=2.2.0->rich<14,>=10.14.0->streamlit->simpletransformers)\n",
      "  Downloading mdurl-0.1.2-py3-none-any.whl (10.0 kB)\n",
      "Collecting pyasn1<0.6.0,>=0.4.6 (from pyasn1-modules>=0.2.1->google-auth<3,>=1.6.3->tensorboard->simpletransformers)\n",
      "  Downloading pyasn1-0.5.0-py2.py3-none-any.whl (83 kB)\n",
      "\u001b[2K     \u001b[38;2;114;156;31m━━━━━━━━━━━━━━━━━━━━━━━━━━━━━━━━━━━━━━━━\u001b[0m \u001b[32m83.9/83.9 kB\u001b[0m \u001b[31m14.3 MB/s\u001b[0m eta \u001b[36m0:00:00\u001b[0m\n",
      "\u001b[?25hCollecting oauthlib>=3.0.0 (from requests-oauthlib>=0.7.0->google-auth-oauthlib<1.1,>=0.5->tensorboard->simpletransformers)\n",
      "  Using cached oauthlib-3.2.2-py3-none-any.whl (151 kB)\n",
      "Downloading wandb-0.15.7-py3-none-any.whl (2.1 MB)\n",
      "\u001b[2K   \u001b[38;2;114;156;31m━━━━━━━━━━━━━━━━━━━━━━━━━━━━━━━━━━━━━━━━\u001b[0m \u001b[32m2.1/2.1 MB\u001b[0m \u001b[31m8.2 MB/s\u001b[0m eta \u001b[36m0:00:00\u001b[0mm eta \u001b[36m0:00:01\u001b[0m[36m0:00:01\u001b[0mm\n",
      "\u001b[?25hDownloading streamlit-1.25.0-py2.py3-none-any.whl (8.1 MB)\n",
      "\u001b[2K   \u001b[38;2;114;156;31m━━━━━━━━━━━━━━━━━━━━━━━━━━━━━━━━━━━━━━━━\u001b[0m \u001b[32m8.1/8.1 MB\u001b[0m \u001b[31m9.5 MB/s\u001b[0m eta \u001b[36m0:00:00\u001b[0mm eta \u001b[36m0:00:01\u001b[0m0:01\u001b[0m:01\u001b[0mm\n",
      "\u001b[?25hDownloading altair-5.0.1-py3-none-any.whl (471 kB)\n",
      "\u001b[2K   \u001b[38;2;114;156;31m━━━━━━━━━━━━━━━━━━━━━━━━━━━━━━━━━━━━━━━━\u001b[0m \u001b[32m471.5/471.5 kB\u001b[0m \u001b[31m14.4 MB/s\u001b[0m eta \u001b[36m0:00:00\u001b[0mm eta \u001b[36m0:00:01\u001b[0m\n",
      "\u001b[?25hDownloading cachetools-5.3.1-py3-none-any.whl (9.3 kB)\n",
      "Downloading GitPython-3.1.32-py3-none-any.whl (188 kB)\n",
      "\u001b[2K   \u001b[38;2;114;156;31m━━━━━━━━━━━━━━━━━━━━━━━━━━━━━━━━━━━━━━━━\u001b[0m \u001b[32m188.5/188.5 kB\u001b[0m \u001b[31m16.1 MB/s\u001b[0m eta \u001b[36m0:00:00\u001b[0m\n",
      "\u001b[?25hDownloading google_auth-2.22.0-py2.py3-none-any.whl (181 kB)\n",
      "\u001b[2K   \u001b[38;2;114;156;31m━━━━━━━━━━━━━━━━━━━━━━━━━━━━━━━━━━━━━━━━\u001b[0m \u001b[32m181.8/181.8 kB\u001b[0m \u001b[31m21.4 MB/s\u001b[0m eta \u001b[36m0:00:00\u001b[0m\n",
      "\u001b[?25hDownloading grpcio-1.56.2-cp39-cp39-manylinux_2_17_x86_64.manylinux2014_x86_64.whl (5.2 MB)\n",
      "\u001b[2K   \u001b[38;2;114;156;31m━━━━━━━━━━━━━━━━━━━━━━━━━━━━━━━━━━━━━━━━\u001b[0m \u001b[32m5.2/5.2 MB\u001b[0m \u001b[31m10.0 MB/s\u001b[0m eta \u001b[36m0:00:00\u001b[0mm eta \u001b[36m0:00:01\u001b[0m[36m0:00:01\u001b[0m\n",
      "\u001b[?25hDownloading Markdown-3.4.4-py3-none-any.whl (94 kB)\n",
      "\u001b[2K   \u001b[38;2;114;156;31m━━━━━━━━━━━━━━━━━━━━━━━━━━━━━━━━━━━━━━━━\u001b[0m \u001b[32m94.2/94.2 kB\u001b[0m \u001b[31m14.0 MB/s\u001b[0m eta \u001b[36m0:00:00\u001b[0m\n",
      "\u001b[?25hUsing cached protobuf-4.23.4-cp37-abi3-manylinux2014_x86_64.whl (304 kB)\n",
      "Downloading rich-13.5.0-py3-none-any.whl (239 kB)\n",
      "\u001b[2K   \u001b[38;2;114;156;31m━━━━━━━━━━━━━━━━━━━━━━━━━━━━━━━━━━━━━━━━\u001b[0m \u001b[32m239.7/239.7 kB\u001b[0m \u001b[31m19.6 MB/s\u001b[0m eta \u001b[36m0:00:00\u001b[0m\n",
      "\u001b[?25hDownloading sentry_sdk-1.28.1-py2.py3-none-any.whl (214 kB)\n",
      "\u001b[2K   \u001b[38;2;114;156;31m━━━━━━━━━━━━━━━━━━━━━━━━━━━━━━━━━━━━━━━━\u001b[0m \u001b[32m214.7/214.7 kB\u001b[0m \u001b[31m20.4 MB/s\u001b[0m eta \u001b[36m0:00:00\u001b[0m\n",
      "\u001b[?25hDownloading tensorboard_data_server-0.7.1-py3-none-manylinux2014_x86_64.whl (6.6 MB)\n",
      "\u001b[2K   \u001b[38;2;114;156;31m━━━━━━━━━━━━━━━━━━━━━━━━━━━━━━━━━━━━━━━━\u001b[0m \u001b[32m6.6/6.6 MB\u001b[0m \u001b[31m8.8 MB/s\u001b[0m eta \u001b[36m0:00:00\u001b[0mm eta \u001b[36m0:00:01\u001b[0m[36m0:00:01\u001b[0mm\n",
      "\u001b[?25hDownloading tzlocal-4.3.1-py3-none-any.whl (20 kB)\n",
      "Using cached urllib3-1.26.16-py2.py3-none-any.whl (143 kB)\n",
      "Using cached Werkzeug-2.3.6-py3-none-any.whl (242 kB)\n",
      "Downloading markdown_it_py-3.0.0-py3-none-any.whl (87 kB)\n",
      "\u001b[2K   \u001b[38;2;114;156;31m━━━━━━━━━━━━━━━━━━━━━━━━━━━━━━━━━━━━━━━━\u001b[0m \u001b[32m87.5/87.5 kB\u001b[0m \u001b[31m14.1 MB/s\u001b[0m eta \u001b[36m0:00:00\u001b[0m\n",
      "\u001b[?25hBuilding wheels for collected packages: validators, pathtools\n",
      "  Building wheel for validators (setup.py) ... \u001b[?25ldone\n",
      "\u001b[?25h  Created wheel for validators: filename=validators-0.20.0-py3-none-any.whl size=19581 sha256=ae980c9cdd18b006b79250d5466efd134a4ec104470b57b552ebf57fb80456d7\n",
      "  Stored in directory: /home/rajaraman/.cache/pip/wheels/2d/f0/a8/1094fca7a7e5d0d12ff56e0c64675d72aa5cc81a5fc200e849\n",
      "  Building wheel for pathtools (setup.py) ... \u001b[?25ldone\n",
      "\u001b[?25h  Created wheel for pathtools: filename=pathtools-0.1.2-py3-none-any.whl size=8791 sha256=01614183b3ffc39a4a237ce338815bbce5f932a81f74cbc6eb8b84ad0b9745c2\n",
      "  Stored in directory: /home/rajaraman/.cache/pip/wheels/b7/0a/67/ada2a22079218c75a88361c0782855cc72aebc4d18d0289d05\n",
      "Successfully built validators pathtools\n",
      "Installing collected packages: pathtools, appdirs, werkzeug, watchdog, validators, urllib3, toolz, toml, tensorboard-data-server, tenacity, smmap, setproctitle, pytz-deprecation-shim, pympler, pyasn1, protobuf, pillow, oauthlib, mdurl, grpcio, docker-pycreds, cachetools, blinker, absl-py, tzlocal, sentry-sdk, rsa, pydeck, pyasn1-modules, markdown-it-py, markdown, gitdb, rich, requests-oauthlib, google-auth, GitPython, wandb, google-auth-oauthlib, altair, tensorboard, streamlit, simpletransformers\n",
      "  Attempting uninstall: urllib3\n",
      "    Found existing installation: urllib3 2.0.4\n",
      "    Uninstalling urllib3-2.0.4:\n",
      "      Successfully uninstalled urllib3-2.0.4\n",
      "Successfully installed GitPython-3.1.32 absl-py-1.4.0 altair-5.0.1 appdirs-1.4.4 blinker-1.6.2 cachetools-5.3.1 docker-pycreds-0.4.0 gitdb-4.0.10 google-auth-2.22.0 google-auth-oauthlib-1.0.0 grpcio-1.56.2 markdown-3.4.4 markdown-it-py-3.0.0 mdurl-0.1.2 oauthlib-3.2.2 pathtools-0.1.2 pillow-9.5.0 protobuf-4.23.4 pyasn1-0.5.0 pyasn1-modules-0.3.0 pydeck-0.8.0 pympler-1.0.1 pytz-deprecation-shim-0.1.0.post0 requests-oauthlib-1.3.1 rich-13.5.0 rsa-4.9 sentry-sdk-1.28.1 setproctitle-1.3.2 simpletransformers-0.63.11 smmap-5.0.0 streamlit-1.25.0 tenacity-8.2.2 tensorboard-2.13.0 tensorboard-data-server-0.7.1 toml-0.10.2 toolz-0.12.0 tzlocal-4.3.1 urllib3-1.26.16 validators-0.20.0 wandb-0.15.7 watchdog-3.0.0 werkzeug-2.3.6\n"
     ]
    }
   ],
   "source": [
    "!pip install simpletransformers\n"
   ]
  },
  {
   "cell_type": "markdown",
   "id": "d08e2350-b136-4204-a874-4ac64f89950b",
   "metadata": {},
   "source": [
    "### Ref : https://github.com/karndeepsingh/Named-Entity-Recognition/blob/main/NAMED%20ENTITY%20RECOGNITION.ipynb"
   ]
  },
  {
   "cell_type": "code",
   "execution_count": 2,
   "id": "1ac8bf67-1bd0-4412-8793-cd88ecbe99de",
   "metadata": {},
   "outputs": [],
   "source": [
    "\n",
    "from sklearn.preprocessing import LabelEncoder\n",
    "from sklearn.model_selection import train_test_split\n",
    "from sklearn.metrics import accuracy_score\n",
    "     "
   ]
  },
  {
   "cell_type": "code",
   "execution_count": 10,
   "id": "ad686878-2bda-4ca6-9827-9f31fcbf69ec",
   "metadata": {},
   "outputs": [],
   "source": [
    "import pandas as pd\n",
    "data = pd.read_csv(\"~/datasets/grocery_training_data.csv\",encoding=\"latin1\" )"
   ]
  },
  {
   "cell_type": "code",
   "execution_count": 11,
   "id": "bded6b0c-6e38-4bb1-a315-5a8986107204",
   "metadata": {},
   "outputs": [
    {
     "data": {
      "text/html": [
       "<div>\n",
       "<style scoped>\n",
       "    .dataframe tbody tr th:only-of-type {\n",
       "        vertical-align: middle;\n",
       "    }\n",
       "\n",
       "    .dataframe tbody tr th {\n",
       "        vertical-align: top;\n",
       "    }\n",
       "\n",
       "    .dataframe thead th {\n",
       "        text-align: right;\n",
       "    }\n",
       "</style>\n",
       "<table border=\"1\" class=\"dataframe\">\n",
       "  <thead>\n",
       "    <tr style=\"text-align: right;\">\n",
       "      <th></th>\n",
       "      <th>Sentence #</th>\n",
       "      <th>Word</th>\n",
       "      <th>Tag</th>\n",
       "    </tr>\n",
       "  </thead>\n",
       "  <tbody>\n",
       "    <tr>\n",
       "      <th>0</th>\n",
       "      <td>0</td>\n",
       "      <td>I</td>\n",
       "      <td>0</td>\n",
       "    </tr>\n",
       "    <tr>\n",
       "      <th>1</th>\n",
       "      <td>0</td>\n",
       "      <td>need</td>\n",
       "      <td>0</td>\n",
       "    </tr>\n",
       "    <tr>\n",
       "      <th>2</th>\n",
       "      <td>0</td>\n",
       "      <td>2KG</td>\n",
       "      <td>MEASUREMENT</td>\n",
       "    </tr>\n",
       "    <tr>\n",
       "      <th>3</th>\n",
       "      <td>0</td>\n",
       "      <td>of</td>\n",
       "      <td>0</td>\n",
       "    </tr>\n",
       "    <tr>\n",
       "      <th>4</th>\n",
       "      <td>0</td>\n",
       "      <td>samba</td>\n",
       "      <td>FOOD_ITEM</td>\n",
       "    </tr>\n",
       "    <tr>\n",
       "      <th>5</th>\n",
       "      <td>0</td>\n",
       "      <td>rice</td>\n",
       "      <td>FOOD_ITEM</td>\n",
       "    </tr>\n",
       "    <tr>\n",
       "      <th>6</th>\n",
       "      <td>0</td>\n",
       "      <td>and</td>\n",
       "      <td>0</td>\n",
       "    </tr>\n",
       "    <tr>\n",
       "      <th>7</th>\n",
       "      <td>0</td>\n",
       "      <td>2</td>\n",
       "      <td>MEASUREMENT</td>\n",
       "    </tr>\n",
       "    <tr>\n",
       "      <th>8</th>\n",
       "      <td>0</td>\n",
       "      <td>ltr</td>\n",
       "      <td>MEASUREMENT</td>\n",
       "    </tr>\n",
       "    <tr>\n",
       "      <th>9</th>\n",
       "      <td>0</td>\n",
       "      <td>coconut</td>\n",
       "      <td>FOOD_ITEM</td>\n",
       "    </tr>\n",
       "    <tr>\n",
       "      <th>10</th>\n",
       "      <td>0</td>\n",
       "      <td>oil</td>\n",
       "      <td>FOOD_ITEM</td>\n",
       "    </tr>\n",
       "    <tr>\n",
       "      <th>11</th>\n",
       "      <td>2</td>\n",
       "      <td>I</td>\n",
       "      <td>0</td>\n",
       "    </tr>\n",
       "    <tr>\n",
       "      <th>12</th>\n",
       "      <td>2</td>\n",
       "      <td>need</td>\n",
       "      <td>0</td>\n",
       "    </tr>\n",
       "    <tr>\n",
       "      <th>13</th>\n",
       "      <td>2</td>\n",
       "      <td>10</td>\n",
       "      <td>MEASUREMENT</td>\n",
       "    </tr>\n",
       "    <tr>\n",
       "      <th>14</th>\n",
       "      <td>2</td>\n",
       "      <td>kg</td>\n",
       "      <td>MEASUREMENT</td>\n",
       "    </tr>\n",
       "    <tr>\n",
       "      <th>15</th>\n",
       "      <td>2</td>\n",
       "      <td>of</td>\n",
       "      <td>0</td>\n",
       "    </tr>\n",
       "    <tr>\n",
       "      <th>16</th>\n",
       "      <td>2</td>\n",
       "      <td>wheat</td>\n",
       "      <td>FOOD_ITEM</td>\n",
       "    </tr>\n",
       "    <tr>\n",
       "      <th>17</th>\n",
       "      <td>5</td>\n",
       "      <td>I</td>\n",
       "      <td>0</td>\n",
       "    </tr>\n",
       "    <tr>\n",
       "      <th>18</th>\n",
       "      <td>5</td>\n",
       "      <td>want</td>\n",
       "      <td>0</td>\n",
       "    </tr>\n",
       "    <tr>\n",
       "      <th>19</th>\n",
       "      <td>5</td>\n",
       "      <td>to</td>\n",
       "      <td>0</td>\n",
       "    </tr>\n",
       "    <tr>\n",
       "      <th>20</th>\n",
       "      <td>5</td>\n",
       "      <td>buy</td>\n",
       "      <td>0</td>\n",
       "    </tr>\n",
       "    <tr>\n",
       "      <th>21</th>\n",
       "      <td>5</td>\n",
       "      <td>tooth</td>\n",
       "      <td>FOOD_ITEM</td>\n",
       "    </tr>\n",
       "    <tr>\n",
       "      <th>22</th>\n",
       "      <td>5</td>\n",
       "      <td>brush</td>\n",
       "      <td>FOOD_ITEM</td>\n",
       "    </tr>\n",
       "    <tr>\n",
       "      <th>23</th>\n",
       "      <td>5</td>\n",
       "      <td>and</td>\n",
       "      <td>0</td>\n",
       "    </tr>\n",
       "    <tr>\n",
       "      <th>24</th>\n",
       "      <td>5</td>\n",
       "      <td>pepsodent</td>\n",
       "      <td>FOOD_ITEM</td>\n",
       "    </tr>\n",
       "    <tr>\n",
       "      <th>25</th>\n",
       "      <td>5</td>\n",
       "      <td>paste</td>\n",
       "      <td>FOOD_ITEM</td>\n",
       "    </tr>\n",
       "    <tr>\n",
       "      <th>26</th>\n",
       "      <td>7</td>\n",
       "      <td>I</td>\n",
       "      <td>0</td>\n",
       "    </tr>\n",
       "    <tr>\n",
       "      <th>27</th>\n",
       "      <td>7</td>\n",
       "      <td>am</td>\n",
       "      <td>0</td>\n",
       "    </tr>\n",
       "    <tr>\n",
       "      <th>28</th>\n",
       "      <td>7</td>\n",
       "      <td>looking</td>\n",
       "      <td>0</td>\n",
       "    </tr>\n",
       "    <tr>\n",
       "      <th>29</th>\n",
       "      <td>7</td>\n",
       "      <td>for</td>\n",
       "      <td>0</td>\n",
       "    </tr>\n",
       "  </tbody>\n",
       "</table>\n",
       "</div>"
      ],
      "text/plain": [
       "    Sentence #       Word          Tag\n",
       "0            0          I            0\n",
       "1            0       need            0\n",
       "2            0        2KG  MEASUREMENT\n",
       "3            0         of            0\n",
       "4            0      samba    FOOD_ITEM\n",
       "5            0       rice    FOOD_ITEM\n",
       "6            0        and            0\n",
       "7            0          2  MEASUREMENT\n",
       "8            0        ltr  MEASUREMENT\n",
       "9            0    coconut    FOOD_ITEM\n",
       "10           0        oil    FOOD_ITEM\n",
       "11           2          I            0\n",
       "12           2       need            0\n",
       "13           2         10  MEASUREMENT\n",
       "14           2         kg  MEASUREMENT\n",
       "15           2         of            0\n",
       "16           2      wheat    FOOD_ITEM\n",
       "17           5          I            0\n",
       "18           5       want            0\n",
       "19           5         to            0\n",
       "20           5        buy            0\n",
       "21           5      tooth    FOOD_ITEM\n",
       "22           5      brush    FOOD_ITEM\n",
       "23           5        and            0\n",
       "24           5  pepsodent    FOOD_ITEM\n",
       "25           5      paste    FOOD_ITEM\n",
       "26           7          I            0\n",
       "27           7         am            0\n",
       "28           7    looking            0\n",
       "29           7        for            0"
      ]
     },
     "execution_count": 11,
     "metadata": {},
     "output_type": "execute_result"
    }
   ],
   "source": [
    "data.head(30)\n"
   ]
  },
  {
   "cell_type": "code",
   "execution_count": 12,
   "id": "ad51328e-1138-42c4-82c3-6ee9503a0e1a",
   "metadata": {},
   "outputs": [],
   "source": [
    "data.rename(columns={\"Sentence #\":\"sentence_id\",\"Word\":\"words\",\"Tag\":\"labels\"}, inplace =True)\n"
   ]
  },
  {
   "cell_type": "code",
   "execution_count": 13,
   "id": "8d3be372-261e-43db-830a-db6903b8bc79",
   "metadata": {},
   "outputs": [],
   "source": [
    "data[\"labels\"] = data[\"labels\"].str.upper()\n"
   ]
  },
  {
   "cell_type": "code",
   "execution_count": 15,
   "id": "81e553ca-1fe3-47d7-9f7d-6f826ac05405",
   "metadata": {},
   "outputs": [],
   "source": [
    "\n",
    "X= data[[\"sentence_id\",\"words\"]]\n",
    "Y =data[\"labels\"]"
   ]
  },
  {
   "cell_type": "code",
   "execution_count": 16,
   "id": "cb9bfe06-fb28-4161-9eda-36ec8b3e3fb7",
   "metadata": {},
   "outputs": [],
   "source": [
    "x_train, x_test, y_train, y_test = train_test_split(X,Y, test_size =0.2)\n"
   ]
  },
  {
   "cell_type": "code",
   "execution_count": 17,
   "id": "4871383b-a04b-4b11-a666-3302a17abc30",
   "metadata": {},
   "outputs": [],
   "source": [
    "#building up train data and test data\n",
    "train_data = pd.DataFrame({\"sentence_id\":x_train[\"sentence_id\"],\"words\":x_train[\"words\"],\"labels\":y_train})\n",
    "test_data = pd.DataFrame({\"sentence_id\":x_test[\"sentence_id\"],\"words\":x_test[\"words\"],\"labels\":y_test})"
   ]
  },
  {
   "cell_type": "code",
   "execution_count": 18,
   "id": "8534b9e5-d5fa-416e-b8ad-b7bc2d7f06a5",
   "metadata": {},
   "outputs": [
    {
     "data": {
      "text/html": [
       "<div>\n",
       "<style scoped>\n",
       "    .dataframe tbody tr th:only-of-type {\n",
       "        vertical-align: middle;\n",
       "    }\n",
       "\n",
       "    .dataframe tbody tr th {\n",
       "        vertical-align: top;\n",
       "    }\n",
       "\n",
       "    .dataframe thead th {\n",
       "        text-align: right;\n",
       "    }\n",
       "</style>\n",
       "<table border=\"1\" class=\"dataframe\">\n",
       "  <thead>\n",
       "    <tr style=\"text-align: right;\">\n",
       "      <th></th>\n",
       "      <th>sentence_id</th>\n",
       "      <th>words</th>\n",
       "      <th>labels</th>\n",
       "    </tr>\n",
       "  </thead>\n",
       "  <tbody>\n",
       "    <tr>\n",
       "      <th>847</th>\n",
       "      <td>184</td>\n",
       "      <td>need</td>\n",
       "      <td>0</td>\n",
       "    </tr>\n",
       "    <tr>\n",
       "      <th>401</th>\n",
       "      <td>94</td>\n",
       "      <td>I</td>\n",
       "      <td>0</td>\n",
       "    </tr>\n",
       "    <tr>\n",
       "      <th>579</th>\n",
       "      <td>134</td>\n",
       "      <td>for</td>\n",
       "      <td>0</td>\n",
       "    </tr>\n",
       "    <tr>\n",
       "      <th>159</th>\n",
       "      <td>37</td>\n",
       "      <td>coffee</td>\n",
       "      <td>FOOD_ITEM</td>\n",
       "    </tr>\n",
       "    <tr>\n",
       "      <th>182</th>\n",
       "      <td>41</td>\n",
       "      <td>meals.</td>\n",
       "      <td>0</td>\n",
       "    </tr>\n",
       "    <tr>\n",
       "      <th>...</th>\n",
       "      <td>...</td>\n",
       "      <td>...</td>\n",
       "      <td>...</td>\n",
       "    </tr>\n",
       "    <tr>\n",
       "      <th>568</th>\n",
       "      <td>132</td>\n",
       "      <td>want</td>\n",
       "      <td>0</td>\n",
       "    </tr>\n",
       "    <tr>\n",
       "      <th>643</th>\n",
       "      <td>146</td>\n",
       "      <td>apples,</td>\n",
       "      <td>FOOD_ITEM</td>\n",
       "    </tr>\n",
       "    <tr>\n",
       "      <th>619</th>\n",
       "      <td>142</td>\n",
       "      <td>and</td>\n",
       "      <td>0</td>\n",
       "    </tr>\n",
       "    <tr>\n",
       "      <th>133</th>\n",
       "      <td>31</td>\n",
       "      <td>my</td>\n",
       "      <td>0</td>\n",
       "    </tr>\n",
       "    <tr>\n",
       "      <th>426</th>\n",
       "      <td>100</td>\n",
       "      <td>get</td>\n",
       "      <td>0</td>\n",
       "    </tr>\n",
       "  </tbody>\n",
       "</table>\n",
       "<p>699 rows × 3 columns</p>\n",
       "</div>"
      ],
      "text/plain": [
       "     sentence_id    words     labels\n",
       "847          184     need          0\n",
       "401           94        I          0\n",
       "579          134      for          0\n",
       "159           37   coffee  FOOD_ITEM\n",
       "182           41   meals.          0\n",
       "..           ...      ...        ...\n",
       "568          132     want          0\n",
       "643          146  apples,  FOOD_ITEM\n",
       "619          142      and          0\n",
       "133           31       my          0\n",
       "426          100      get          0\n",
       "\n",
       "[699 rows x 3 columns]"
      ]
     },
     "execution_count": 18,
     "metadata": {},
     "output_type": "execute_result"
    }
   ],
   "source": [
    "train_data"
   ]
  },
  {
   "cell_type": "code",
   "execution_count": 19,
   "id": "3c6ad0de-6f00-4c63-b34b-493da77a784c",
   "metadata": {},
   "outputs": [],
   "source": [
    "from simpletransformers.ner import NERModel,NERArgs\n"
   ]
  },
  {
   "cell_type": "code",
   "execution_count": 20,
   "id": "23c0950d-2d1d-4f1a-a38c-ecf2009d509e",
   "metadata": {},
   "outputs": [
    {
     "data": {
      "text/plain": [
       "['0', 'MEASUREMENT', 'FOOD_ITEM']"
      ]
     },
     "execution_count": 20,
     "metadata": {},
     "output_type": "execute_result"
    }
   ],
   "source": [
    "label = data[\"labels\"].unique().tolist()\n",
    "label"
   ]
  },
  {
   "cell_type": "code",
   "execution_count": 21,
   "id": "9caa4ea6-a4d9-4017-a08f-ea82f0633235",
   "metadata": {},
   "outputs": [],
   "source": [
    "\n",
    "args = NERArgs()\n",
    "args.num_train_epochs = 3\n",
    "args.learning_rate = 1e-4\n",
    "args.overwrite_output_dir =True\n",
    "args.train_batch_size = 16\n",
    "args.eval_batch_size = 16"
   ]
  },
  {
   "cell_type": "code",
   "execution_count": 23,
   "id": "be8832ad-3dc1-440f-865e-93fdf8e85a98",
   "metadata": {},
   "outputs": [
    {
     "name": "stderr",
     "output_type": "stream",
     "text": [
      "Downloading (…)lve/main/config.json: 100%|████████████████████████████████████████████████████████████████████████████████████████████████████████████████████████████████| 570/570 [00:00<00:00, 95.4kB/s]\n",
      "Downloading model.safetensors: 100%|████████████████████████████████████████████████████████████████████████████████████████████████████████████████████████████████████| 436M/436M [00:28<00:00, 15.3MB/s]\n",
      "Some weights of BertForTokenClassification were not initialized from the model checkpoint at bert-base-cased and are newly initialized: ['classifier.bias', 'classifier.weight']\n",
      "You should probably TRAIN this model on a down-stream task to be able to use it for predictions and inference.\n",
      "Downloading (…)solve/main/vocab.txt: 100%|███████████████████████████████████████████████████████████████████████████████████████████████████████████████████████████████| 213k/213k [00:00<00:00, 534kB/s]\n",
      "Downloading (…)okenizer_config.json: 100%|██████████████████████████████████████████████████████████████████████████████████████████████████████████████████████████████| 29.0/29.0 [00:00<00:00, 27.5kB/s]\n"
     ]
    }
   ],
   "source": [
    "model = NERModel('bert', 'bert-base-cased',labels=label,args =args,  use_cuda=False)"
   ]
  },
  {
   "cell_type": "code",
   "execution_count": 24,
   "id": "be625ed7-75c5-49b7-93cd-74f3cb961556",
   "metadata": {},
   "outputs": [
    {
     "name": "stderr",
     "output_type": "stream",
     "text": [
      "100%|████████████████████████████████████████████████████████████████████████████████████████████████████████████████████████████████████████████████████████████████████████| 1/1 [00:00<00:00, 30.01it/s]\n",
      "Epoch 1 of 3:   0%|                                                                                                                                                                  | 0/3 [00:00<?, ?it/s]\n",
      "Running Epoch 0 of 3:   0%|                                                                                                                                                          | 0/6 [00:00<?, ?it/s]\u001b[A\n",
      "Epochs 0/3. Running Loss:    1.1523:   0%|                                                                                                                                           | 0/6 [00:02<?, ?it/s]\u001b[A\n",
      "Epochs 0/3. Running Loss:    1.1523:  17%|█████████████████████▊                                                                                                             | 1/6 [00:04<00:24,  4.99s/it]\u001b[A\n",
      "Epochs 0/3. Running Loss:    1.1832:  17%|█████████████████████▊                                                                                                             | 1/6 [00:06<00:24,  4.99s/it]\u001b[A\n",
      "Epochs 0/3. Running Loss:    1.1832:  33%|███████████████████████████████████████████▋                                                                                       | 2/6 [00:09<00:18,  4.74s/it]\u001b[A\n",
      "Epochs 0/3. Running Loss:    0.9231:  33%|███████████████████████████████████████████▋                                                                                       | 2/6 [00:10<00:18,  4.74s/it]\u001b[A\n",
      "Epochs 0/3. Running Loss:    0.9231:  50%|█████████████████████████████████████████████████████████████████▌                                                                 | 3/6 [00:13<00:13,  4.42s/it]\u001b[A\n",
      "Epochs 0/3. Running Loss:    0.6267:  50%|█████████████████████████████████████████████████████████████████▌                                                                 | 3/6 [00:14<00:13,  4.42s/it]\u001b[A\n",
      "Epochs 0/3. Running Loss:    0.6267:  67%|███████████████████████████████████████████████████████████████████████████████████████▎                                           | 4/6 [00:17<00:08,  4.30s/it]\u001b[A\n",
      "Epochs 0/3. Running Loss:    0.5608:  67%|███████████████████████████████████████████████████████████████████████████████████████▎                                           | 4/6 [00:18<00:08,  4.30s/it]\u001b[A\n",
      "Epochs 0/3. Running Loss:    0.5608:  83%|█████████████████████████████████████████████████████████████████████████████████████████████████████████████▏                     | 5/6 [00:21<00:04,  4.24s/it]\u001b[A\n",
      "Epochs 0/3. Running Loss:    0.4865:  83%|█████████████████████████████████████████████████████████████████████████████████████████████████████████████▏                     | 5/6 [00:22<00:04,  4.24s/it]\u001b[A\n",
      "Epochs 0/3. Running Loss:    0.4865: 100%|███████████████████████████████████████████████████████████████████████████████████████████████████████████████████████████████████| 6/6 [00:25<00:00,  4.21s/it]\u001b[A\n",
      "Epoch 2 of 3:  33%|███████████████████████████████████████████████████▎                                                                                                      | 1/3 [00:26<00:52, 26.21s/it]\n",
      "Running Epoch 1 of 3:   0%|                                                                                                                                                          | 0/6 [00:00<?, ?it/s]\u001b[A\n",
      "Epochs 1/3. Running Loss:    0.4819:   0%|                                                                                                                                           | 0/6 [00:01<?, ?it/s]\u001b[A\n",
      "Epochs 1/3. Running Loss:    0.4819:  17%|█████████████████████▊                                                                                                             | 1/6 [00:03<00:19,  3.95s/it]\u001b[A\n",
      "Epochs 1/3. Running Loss:    0.4222:  17%|█████████████████████▊                                                                                                             | 1/6 [00:05<00:19,  3.95s/it]\u001b[A\n",
      "Epochs 1/3. Running Loss:    0.4222:  33%|███████████████████████████████████████████▋                                                                                       | 2/6 [00:08<00:16,  4.02s/it]\u001b[A\n",
      "Epochs 1/3. Running Loss:    0.4495:  33%|███████████████████████████████████████████▋                                                                                       | 2/6 [00:09<00:16,  4.02s/it]\u001b[A\n",
      "Epochs 1/3. Running Loss:    0.4495:  50%|█████████████████████████████████████████████████████████████████▌                                                                 | 3/6 [00:13<00:13,  4.46s/it]\u001b[A\n",
      "Epochs 1/3. Running Loss:    0.3969:  50%|█████████████████████████████████████████████████████████████████▌                                                                 | 3/6 [00:14<00:13,  4.46s/it]\u001b[A\n",
      "Epochs 1/3. Running Loss:    0.3969:  67%|███████████████████████████████████████████████████████████████████████████████████████▎                                           | 4/6 [00:18<00:09,  4.72s/it]\u001b[A\n",
      "Epochs 1/3. Running Loss:    0.2135:  67%|███████████████████████████████████████████████████████████████████████████████████████▎                                           | 4/6 [00:19<00:09,  4.72s/it]\u001b[A\n",
      "Epochs 1/3. Running Loss:    0.2135:  83%|█████████████████████████████████████████████████████████████████████████████████████████████████████████████▏                     | 5/6 [00:22<00:04,  4.77s/it]\u001b[A\n",
      "Epochs 1/3. Running Loss:    0.2113:  83%|█████████████████████████████████████████████████████████████████████████████████████████████████████████████▏                     | 5/6 [00:24<00:04,  4.77s/it]\u001b[A\n",
      "Epochs 1/3. Running Loss:    0.2113: 100%|███████████████████████████████████████████████████████████████████████████████████████████████████████████████████████████████████| 6/6 [00:26<00:00,  4.49s/it]\u001b[A\n",
      "Epoch 3 of 3:  67%|██████████████████████████████████████████████████████████████████████████████████████████████████████▋                                                   | 2/3 [00:54<00:27, 27.21s/it]\n",
      "Running Epoch 2 of 3:   0%|                                                                                                                                                          | 0/6 [00:00<?, ?it/s]\u001b[A\n",
      "Epochs 2/3. Running Loss:    0.2500:   0%|                                                                                                                                           | 0/6 [00:01<?, ?it/s]\u001b[A\n",
      "Epochs 2/3. Running Loss:    0.2500:  17%|█████████████████████▊                                                                                                             | 1/6 [00:04<00:21,  4.27s/it]\u001b[A\n",
      "Epochs 2/3. Running Loss:    0.1302:  17%|█████████████████████▊                                                                                                             | 1/6 [00:05<00:21,  4.27s/it]\u001b[A\n",
      "Epochs 2/3. Running Loss:    0.1302:  33%|███████████████████████████████████████████▋                                                                                       | 2/6 [00:08<00:17,  4.37s/it]\u001b[A\n",
      "Epochs 2/3. Running Loss:    0.1088:  33%|███████████████████████████████████████████▋                                                                                       | 2/6 [00:10<00:17,  4.37s/it]\u001b[A\n",
      "Epochs 2/3. Running Loss:    0.1088:  50%|█████████████████████████████████████████████████████████████████▌                                                                 | 3/6 [00:13<00:13,  4.34s/it]\u001b[A\n",
      "Epochs 2/3. Running Loss:    0.1203:  50%|█████████████████████████████████████████████████████████████████▌                                                                 | 3/6 [00:14<00:13,  4.34s/it]\u001b[A\n",
      "Epochs 2/3. Running Loss:    0.1203:  67%|███████████████████████████████████████████████████████████████████████████████████████▎                                           | 4/6 [00:17<00:08,  4.29s/it]\u001b[A\n",
      "Epochs 2/3. Running Loss:    0.1542:  67%|███████████████████████████████████████████████████████████████████████████████████████▎                                           | 4/6 [00:18<00:08,  4.29s/it]\u001b[A\n",
      "Epochs 2/3. Running Loss:    0.1542:  83%|█████████████████████████████████████████████████████████████████████████████████████████████████████████████▏                     | 5/6 [00:21<00:04,  4.30s/it]\u001b[A\n",
      "Epochs 2/3. Running Loss:    0.1065:  83%|█████████████████████████████████████████████████████████████████████████████████████████████████████████████▏                     | 5/6 [00:22<00:04,  4.30s/it]\u001b[A\n",
      "Epochs 2/3. Running Loss:    0.1065: 100%|███████████████████████████████████████████████████████████████████████████████████████████████████████████████████████████████████| 6/6 [00:25<00:00,  4.18s/it]\u001b[A\n",
      "Epoch 3 of 3: 100%|██████████████████████████████████████████████████████████████████████████████████████████████████████████████████████████████████████████████████████████| 3/3 [01:20<00:00, 26.72s/it]\n"
     ]
    },
    {
     "data": {
      "text/plain": [
       "(18, 0.4432292717198531)"
      ]
     },
     "execution_count": 24,
     "metadata": {},
     "output_type": "execute_result"
    }
   ],
   "source": [
    "model.train_model(train_data,eval_data = test_data,acc=accuracy_score)"
   ]
  },
  {
   "cell_type": "code",
   "execution_count": 25,
   "id": "4b5e1144-f46d-48eb-aa05-a6952eaea9b0",
   "metadata": {},
   "outputs": [
    {
     "name": "stderr",
     "output_type": "stream",
     "text": [
      "100%|████████████████████████████████████████████████████████████████████████████████████████████████████████████████████████████████████████████████████████████████████████| 1/1 [00:00<00:00, 57.63it/s]\n",
      "Running Evaluation: 100%|████████████████████████████████████████████████████████████████████████████████████████████████████████████████████████████████████████████████████| 5/5 [00:06<00:00,  1.37s/it]\n",
      "/home/rajaraman/miniconda3/envs/dl39/lib/python3.9/site-packages/seqeval/metrics/sequence_labeling.py:171: UserWarning: FOOD_ITEM seems not to be NE tag.\n",
      "  warnings.warn('{} seems not to be NE tag.'.format(chunk))\n",
      "/home/rajaraman/miniconda3/envs/dl39/lib/python3.9/site-packages/seqeval/metrics/sequence_labeling.py:171: UserWarning: 0 seems not to be NE tag.\n",
      "  warnings.warn('{} seems not to be NE tag.'.format(chunk))\n",
      "/home/rajaraman/miniconda3/envs/dl39/lib/python3.9/site-packages/seqeval/metrics/sequence_labeling.py:171: UserWarning: MEASUREMENT seems not to be NE tag.\n",
      "  warnings.warn('{} seems not to be NE tag.'.format(chunk))\n"
     ]
    }
   ],
   "source": [
    "result, model_outputs, preds_list = model.eval_model(test_data)\n"
   ]
  },
  {
   "cell_type": "code",
   "execution_count": 26,
   "id": "4cd3756e-f869-4128-aefc-4b97ae2454de",
   "metadata": {},
   "outputs": [
    {
     "data": {
      "text/plain": [
       "{'eval_loss': 0.17812437936663628,\n",
       " 'precision': 0.9135802469135802,\n",
       " 'recall': 0.8409090909090909,\n",
       " 'f1_score': 0.8757396449704142}"
      ]
     },
     "execution_count": 26,
     "metadata": {},
     "output_type": "execute_result"
    }
   ],
   "source": [
    "result"
   ]
  },
  {
   "cell_type": "code",
   "execution_count": 27,
   "id": "3bc3274c-11d1-4392-b6e6-97718cf6250e",
   "metadata": {},
   "outputs": [
    {
     "name": "stderr",
     "output_type": "stream",
     "text": [
      "100%|████████████████████████████████████████████████████████████████████████████████████████████████████████████████████████████████████████████████████████████████████████| 1/1 [00:00<00:00, 99.10it/s]\n",
      "Running Prediction: 100%|████████████████████████████████████████████████████████████████████████████████████████████████████████████████████████████████████████████████████| 1/1 [00:00<00:00,  7.13it/s]\n"
     ]
    }
   ],
   "source": [
    "prediction, model_output = model.predict([\"What is the new name of Bangalore\"])\n"
   ]
  },
  {
   "cell_type": "code",
   "execution_count": 28,
   "id": "1a84f7a6-5716-4296-a569-e91f95d6ce5b",
   "metadata": {},
   "outputs": [
    {
     "data": {
      "text/plain": [
       "[[{'What': '0'},\n",
       "  {'is': '0'},\n",
       "  {'the': '0'},\n",
       "  {'new': '0'},\n",
       "  {'name': '0'},\n",
       "  {'of': '0'},\n",
       "  {'Bangalore': '0'}]]"
      ]
     },
     "execution_count": 28,
     "metadata": {},
     "output_type": "execute_result"
    }
   ],
   "source": [
    "prediction\n"
   ]
  },
  {
   "cell_type": "code",
   "execution_count": 29,
   "id": "5f462b7c-4873-4f8b-87e2-b5cbe6bc3962",
   "metadata": {},
   "outputs": [],
   "source": [
    "# https://docs.google.com/spreadsheets/d/1JOK1mFmOZb1S3sf-6VDSkqlxZhc31OcAAXYv51823FE/edit#gid=0"
   ]
  },
  {
   "cell_type": "code",
   "execution_count": 30,
   "id": "66a0d3c3-612b-4853-8c29-c21be7aef828",
   "metadata": {},
   "outputs": [
    {
     "name": "stderr",
     "output_type": "stream",
     "text": [
      "100%|████████████████████████████████████████████████████████████████████████████████████████████████████████████████████████████████████████████████████████████████████████| 1/1 [00:00<00:00, 98.45it/s]\n",
      "Running Prediction: 100%|████████████████████████████████████████████████████████████████████████████████████████████████████████████████████████████████████████████████████| 1/1 [00:00<00:00, 11.84it/s]\n"
     ]
    }
   ],
   "source": [
    "prediction, model_output = model.predict([\"I want a dozen eggs and a packet of rice.\"])"
   ]
  },
  {
   "cell_type": "code",
   "execution_count": 31,
   "id": "ed405780-8448-4b4d-974f-9ef042501e72",
   "metadata": {},
   "outputs": [
    {
     "data": {
      "text/plain": [
       "[[{'I': [[4.4133263, -0.8203807, -3.2260625]]},\n",
       "  {'want': [[4.5140123, -0.92833894, -2.734099]]},\n",
       "  {'a': [[2.8099782, 0.15122761, -2.0815275]]},\n",
       "  {'dozen': [[-0.4349795, 0.7713961, -0.84838283]]},\n",
       "  {'eggs': [[-0.71776915, -1.3596101, 2.7439942]]},\n",
       "  {'and': [[4.3686996, -0.9077136, -2.774895]]},\n",
       "  {'a': [[3.1165352, -0.096107274, -2.4683878]]},\n",
       "  {'packet': [[1.0510769, -0.6539463, -0.16408028]]},\n",
       "  {'of': [[3.6002073, -1.0197564, -2.2097425]]},\n",
       "  {'rice.': [[-0.8100081, -1.5629466, 3.5673077],\n",
       "    [4.102978, -0.842257, -2.69593]]}]]"
      ]
     },
     "execution_count": 31,
     "metadata": {},
     "output_type": "execute_result"
    }
   ],
   "source": [
    "model_output"
   ]
  },
  {
   "cell_type": "code",
   "execution_count": 32,
   "id": "deb4de49-54c7-4699-90b7-af731d1e32ec",
   "metadata": {},
   "outputs": [
    {
     "data": {
      "text/plain": [
       "[[{'I': '0'},\n",
       "  {'want': '0'},\n",
       "  {'a': '0'},\n",
       "  {'dozen': 'MEASUREMENT'},\n",
       "  {'eggs': 'FOOD_ITEM'},\n",
       "  {'and': '0'},\n",
       "  {'a': '0'},\n",
       "  {'packet': '0'},\n",
       "  {'of': '0'},\n",
       "  {'rice.': 'FOOD_ITEM'}]]"
      ]
     },
     "execution_count": 32,
     "metadata": {},
     "output_type": "execute_result"
    }
   ],
   "source": [
    "prediction"
   ]
  },
  {
   "cell_type": "code",
   "execution_count": null,
   "id": "1eeb332e-cd1a-4a8f-9df3-32c70e8fa93d",
   "metadata": {},
   "outputs": [],
   "source": []
  }
 ],
 "metadata": {
  "kernelspec": {
   "display_name": "Python 3 (ipykernel)",
   "language": "python",
   "name": "python3"
  },
  "language_info": {
   "codemirror_mode": {
    "name": "ipython",
    "version": 3
   },
   "file_extension": ".py",
   "mimetype": "text/x-python",
   "name": "python",
   "nbconvert_exporter": "python",
   "pygments_lexer": "ipython3",
   "version": "3.9.17"
  }
 },
 "nbformat": 4,
 "nbformat_minor": 5
}
