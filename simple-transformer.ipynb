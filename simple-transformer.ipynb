{
 "cells": [
  {
   "cell_type": "code",
   "execution_count": null,
   "id": "84ef5636-f963-47ce-9c5a-6a1b2a0fb747",
   "metadata": {},
   "outputs": [],
   "source": [
    "# https://towardsdatascience.com/simple-transformers-named-entity-recognition-with-transformer-models-c04b9242a2a0"
   ]
  },
  {
   "cell_type": "code",
   "execution_count": null,
   "id": "a672bd79-1006-47b0-b29b-9a5c6fedb9df",
   "metadata": {},
   "outputs": [],
   "source": []
  },
  {
   "cell_type": "code",
   "execution_count": 35,
   "id": "a9d02a91-3ffd-42e9-a387-21b50789cf43",
   "metadata": {},
   "outputs": [],
   "source": [
    "# !pip install simpletransformers\n"
   ]
  },
  {
   "cell_type": "markdown",
   "id": "d08e2350-b136-4204-a874-4ac64f89950b",
   "metadata": {},
   "source": [
    "### Ref : https://github.com/karndeepsingh/Named-Entity-Recognition/blob/main/NAMED%20ENTITY%20RECOGNITION.ipynb"
   ]
  },
  {
   "cell_type": "code",
   "execution_count": 36,
   "id": "1ac8bf67-1bd0-4412-8793-cd88ecbe99de",
   "metadata": {},
   "outputs": [],
   "source": [
    "\n",
    "from sklearn.preprocessing import LabelEncoder\n",
    "from sklearn.model_selection import train_test_split\n",
    "from sklearn.metrics import accuracy_score\n",
    "     "
   ]
  },
  {
   "cell_type": "code",
   "execution_count": 37,
   "id": "ad686878-2bda-4ca6-9827-9f31fcbf69ec",
   "metadata": {},
   "outputs": [],
   "source": [
    "import pandas as pd\n",
    "data = pd.read_csv(\"~/datasets/grocery_training_data.csv\",encoding=\"latin1\" )"
   ]
  },
  {
   "cell_type": "code",
   "execution_count": 38,
   "id": "bded6b0c-6e38-4bb1-a315-5a8986107204",
   "metadata": {},
   "outputs": [
    {
     "data": {
      "text/html": [
       "<div>\n",
       "<style scoped>\n",
       "    .dataframe tbody tr th:only-of-type {\n",
       "        vertical-align: middle;\n",
       "    }\n",
       "\n",
       "    .dataframe tbody tr th {\n",
       "        vertical-align: top;\n",
       "    }\n",
       "\n",
       "    .dataframe thead th {\n",
       "        text-align: right;\n",
       "    }\n",
       "</style>\n",
       "<table border=\"1\" class=\"dataframe\">\n",
       "  <thead>\n",
       "    <tr style=\"text-align: right;\">\n",
       "      <th></th>\n",
       "      <th>Sentence #</th>\n",
       "      <th>Word</th>\n",
       "      <th>Tag</th>\n",
       "    </tr>\n",
       "  </thead>\n",
       "  <tbody>\n",
       "    <tr>\n",
       "      <th>0</th>\n",
       "      <td>0</td>\n",
       "      <td>I</td>\n",
       "      <td>0</td>\n",
       "    </tr>\n",
       "    <tr>\n",
       "      <th>1</th>\n",
       "      <td>0</td>\n",
       "      <td>need</td>\n",
       "      <td>0</td>\n",
       "    </tr>\n",
       "    <tr>\n",
       "      <th>2</th>\n",
       "      <td>0</td>\n",
       "      <td>2KG</td>\n",
       "      <td>MEASUREMENT</td>\n",
       "    </tr>\n",
       "    <tr>\n",
       "      <th>3</th>\n",
       "      <td>0</td>\n",
       "      <td>of</td>\n",
       "      <td>0</td>\n",
       "    </tr>\n",
       "    <tr>\n",
       "      <th>4</th>\n",
       "      <td>0</td>\n",
       "      <td>samba</td>\n",
       "      <td>FOOD_ITEM</td>\n",
       "    </tr>\n",
       "    <tr>\n",
       "      <th>5</th>\n",
       "      <td>0</td>\n",
       "      <td>rice</td>\n",
       "      <td>FOOD_ITEM</td>\n",
       "    </tr>\n",
       "    <tr>\n",
       "      <th>6</th>\n",
       "      <td>0</td>\n",
       "      <td>and</td>\n",
       "      <td>0</td>\n",
       "    </tr>\n",
       "    <tr>\n",
       "      <th>7</th>\n",
       "      <td>0</td>\n",
       "      <td>2</td>\n",
       "      <td>MEASUREMENT</td>\n",
       "    </tr>\n",
       "    <tr>\n",
       "      <th>8</th>\n",
       "      <td>0</td>\n",
       "      <td>ltr</td>\n",
       "      <td>MEASUREMENT</td>\n",
       "    </tr>\n",
       "    <tr>\n",
       "      <th>9</th>\n",
       "      <td>0</td>\n",
       "      <td>coconut</td>\n",
       "      <td>FOOD_ITEM</td>\n",
       "    </tr>\n",
       "    <tr>\n",
       "      <th>10</th>\n",
       "      <td>0</td>\n",
       "      <td>oil</td>\n",
       "      <td>FOOD_ITEM</td>\n",
       "    </tr>\n",
       "    <tr>\n",
       "      <th>11</th>\n",
       "      <td>2</td>\n",
       "      <td>I</td>\n",
       "      <td>0</td>\n",
       "    </tr>\n",
       "    <tr>\n",
       "      <th>12</th>\n",
       "      <td>2</td>\n",
       "      <td>need</td>\n",
       "      <td>0</td>\n",
       "    </tr>\n",
       "    <tr>\n",
       "      <th>13</th>\n",
       "      <td>2</td>\n",
       "      <td>10</td>\n",
       "      <td>MEASUREMENT</td>\n",
       "    </tr>\n",
       "    <tr>\n",
       "      <th>14</th>\n",
       "      <td>2</td>\n",
       "      <td>kg</td>\n",
       "      <td>MEASUREMENT</td>\n",
       "    </tr>\n",
       "    <tr>\n",
       "      <th>15</th>\n",
       "      <td>2</td>\n",
       "      <td>of</td>\n",
       "      <td>0</td>\n",
       "    </tr>\n",
       "    <tr>\n",
       "      <th>16</th>\n",
       "      <td>2</td>\n",
       "      <td>wheat</td>\n",
       "      <td>FOOD_ITEM</td>\n",
       "    </tr>\n",
       "    <tr>\n",
       "      <th>17</th>\n",
       "      <td>5</td>\n",
       "      <td>I</td>\n",
       "      <td>0</td>\n",
       "    </tr>\n",
       "    <tr>\n",
       "      <th>18</th>\n",
       "      <td>5</td>\n",
       "      <td>want</td>\n",
       "      <td>0</td>\n",
       "    </tr>\n",
       "    <tr>\n",
       "      <th>19</th>\n",
       "      <td>5</td>\n",
       "      <td>to</td>\n",
       "      <td>0</td>\n",
       "    </tr>\n",
       "    <tr>\n",
       "      <th>20</th>\n",
       "      <td>5</td>\n",
       "      <td>buy</td>\n",
       "      <td>0</td>\n",
       "    </tr>\n",
       "    <tr>\n",
       "      <th>21</th>\n",
       "      <td>5</td>\n",
       "      <td>tooth</td>\n",
       "      <td>FOOD_ITEM</td>\n",
       "    </tr>\n",
       "    <tr>\n",
       "      <th>22</th>\n",
       "      <td>5</td>\n",
       "      <td>brush</td>\n",
       "      <td>FOOD_ITEM</td>\n",
       "    </tr>\n",
       "    <tr>\n",
       "      <th>23</th>\n",
       "      <td>5</td>\n",
       "      <td>and</td>\n",
       "      <td>0</td>\n",
       "    </tr>\n",
       "    <tr>\n",
       "      <th>24</th>\n",
       "      <td>5</td>\n",
       "      <td>pepsodent</td>\n",
       "      <td>FOOD_ITEM</td>\n",
       "    </tr>\n",
       "    <tr>\n",
       "      <th>25</th>\n",
       "      <td>5</td>\n",
       "      <td>paste</td>\n",
       "      <td>FOOD_ITEM</td>\n",
       "    </tr>\n",
       "    <tr>\n",
       "      <th>26</th>\n",
       "      <td>7</td>\n",
       "      <td>I</td>\n",
       "      <td>0</td>\n",
       "    </tr>\n",
       "    <tr>\n",
       "      <th>27</th>\n",
       "      <td>7</td>\n",
       "      <td>am</td>\n",
       "      <td>0</td>\n",
       "    </tr>\n",
       "    <tr>\n",
       "      <th>28</th>\n",
       "      <td>7</td>\n",
       "      <td>looking</td>\n",
       "      <td>0</td>\n",
       "    </tr>\n",
       "    <tr>\n",
       "      <th>29</th>\n",
       "      <td>7</td>\n",
       "      <td>for</td>\n",
       "      <td>0</td>\n",
       "    </tr>\n",
       "  </tbody>\n",
       "</table>\n",
       "</div>"
      ],
      "text/plain": [
       "    Sentence #       Word          Tag\n",
       "0            0          I            0\n",
       "1            0       need            0\n",
       "2            0        2KG  MEASUREMENT\n",
       "3            0         of            0\n",
       "4            0      samba    FOOD_ITEM\n",
       "5            0       rice    FOOD_ITEM\n",
       "6            0        and            0\n",
       "7            0          2  MEASUREMENT\n",
       "8            0        ltr  MEASUREMENT\n",
       "9            0    coconut    FOOD_ITEM\n",
       "10           0        oil    FOOD_ITEM\n",
       "11           2          I            0\n",
       "12           2       need            0\n",
       "13           2         10  MEASUREMENT\n",
       "14           2         kg  MEASUREMENT\n",
       "15           2         of            0\n",
       "16           2      wheat    FOOD_ITEM\n",
       "17           5          I            0\n",
       "18           5       want            0\n",
       "19           5         to            0\n",
       "20           5        buy            0\n",
       "21           5      tooth    FOOD_ITEM\n",
       "22           5      brush    FOOD_ITEM\n",
       "23           5        and            0\n",
       "24           5  pepsodent    FOOD_ITEM\n",
       "25           5      paste    FOOD_ITEM\n",
       "26           7          I            0\n",
       "27           7         am            0\n",
       "28           7    looking            0\n",
       "29           7        for            0"
      ]
     },
     "execution_count": 38,
     "metadata": {},
     "output_type": "execute_result"
    }
   ],
   "source": [
    "data.head(30)\n"
   ]
  },
  {
   "cell_type": "code",
   "execution_count": 39,
   "id": "ad51328e-1138-42c4-82c3-6ee9503a0e1a",
   "metadata": {},
   "outputs": [],
   "source": [
    "data.rename(columns={\"Sentence #\":\"sentence_id\",\"Word\":\"words\",\"Tag\":\"labels\"}, inplace =True)\n"
   ]
  },
  {
   "cell_type": "code",
   "execution_count": 40,
   "id": "8d3be372-261e-43db-830a-db6903b8bc79",
   "metadata": {},
   "outputs": [],
   "source": [
    "data[\"labels\"] = data[\"labels\"].str.upper()\n"
   ]
  },
  {
   "cell_type": "code",
   "execution_count": 41,
   "id": "81e553ca-1fe3-47d7-9f7d-6f826ac05405",
   "metadata": {},
   "outputs": [],
   "source": [
    "\n",
    "X= data[[\"sentence_id\",\"words\"]]\n",
    "Y =data[\"labels\"]"
   ]
  },
  {
   "cell_type": "code",
   "execution_count": 42,
   "id": "cb9bfe06-fb28-4161-9eda-36ec8b3e3fb7",
   "metadata": {},
   "outputs": [],
   "source": [
    "x_train, x_test, y_train, y_test = train_test_split(X,Y, test_size =0.2)\n"
   ]
  },
  {
   "cell_type": "code",
   "execution_count": 43,
   "id": "4871383b-a04b-4b11-a666-3302a17abc30",
   "metadata": {},
   "outputs": [],
   "source": [
    "#building up train data and test data\n",
    "train_data = pd.DataFrame({\"sentence_id\":x_train[\"sentence_id\"],\"words\":x_train[\"words\"],\"labels\":y_train})\n",
    "test_data = pd.DataFrame({\"sentence_id\":x_test[\"sentence_id\"],\"words\":x_test[\"words\"],\"labels\":y_test})"
   ]
  },
  {
   "cell_type": "code",
   "execution_count": 44,
   "id": "8534b9e5-d5fa-416e-b8ad-b7bc2d7f06a5",
   "metadata": {},
   "outputs": [
    {
     "data": {
      "text/html": [
       "<div>\n",
       "<style scoped>\n",
       "    .dataframe tbody tr th:only-of-type {\n",
       "        vertical-align: middle;\n",
       "    }\n",
       "\n",
       "    .dataframe tbody tr th {\n",
       "        vertical-align: top;\n",
       "    }\n",
       "\n",
       "    .dataframe thead th {\n",
       "        text-align: right;\n",
       "    }\n",
       "</style>\n",
       "<table border=\"1\" class=\"dataframe\">\n",
       "  <thead>\n",
       "    <tr style=\"text-align: right;\">\n",
       "      <th></th>\n",
       "      <th>sentence_id</th>\n",
       "      <th>words</th>\n",
       "      <th>labels</th>\n",
       "    </tr>\n",
       "  </thead>\n",
       "  <tbody>\n",
       "    <tr>\n",
       "      <th>817</th>\n",
       "      <td>180</td>\n",
       "      <td>250</td>\n",
       "      <td>MEASUREMENT</td>\n",
       "    </tr>\n",
       "    <tr>\n",
       "      <th>605</th>\n",
       "      <td>138</td>\n",
       "      <td>and</td>\n",
       "      <td>0</td>\n",
       "    </tr>\n",
       "    <tr>\n",
       "      <th>66</th>\n",
       "      <td>17</td>\n",
       "      <td>want</td>\n",
       "      <td>0</td>\n",
       "    </tr>\n",
       "    <tr>\n",
       "      <th>701</th>\n",
       "      <td>160</td>\n",
       "      <td>2</td>\n",
       "      <td>MEASUREMENT</td>\n",
       "    </tr>\n",
       "    <tr>\n",
       "      <th>428</th>\n",
       "      <td>100</td>\n",
       "      <td>butter</td>\n",
       "      <td>FOOD_ITEM</td>\n",
       "    </tr>\n",
       "    <tr>\n",
       "      <th>...</th>\n",
       "      <td>...</td>\n",
       "      <td>...</td>\n",
       "      <td>...</td>\n",
       "    </tr>\n",
       "    <tr>\n",
       "      <th>681</th>\n",
       "      <td>156</td>\n",
       "      <td>pasta</td>\n",
       "      <td>FOOD_ITEM</td>\n",
       "    </tr>\n",
       "    <tr>\n",
       "      <th>783</th>\n",
       "      <td>174</td>\n",
       "      <td>and</td>\n",
       "      <td>0</td>\n",
       "    </tr>\n",
       "    <tr>\n",
       "      <th>834</th>\n",
       "      <td>182</td>\n",
       "      <td>1</td>\n",
       "      <td>MEASUREMENT</td>\n",
       "    </tr>\n",
       "    <tr>\n",
       "      <th>132</th>\n",
       "      <td>31</td>\n",
       "      <td>for</td>\n",
       "      <td>0</td>\n",
       "    </tr>\n",
       "    <tr>\n",
       "      <th>216</th>\n",
       "      <td>51</td>\n",
       "      <td>looking</td>\n",
       "      <td>0</td>\n",
       "    </tr>\n",
       "  </tbody>\n",
       "</table>\n",
       "<p>699 rows × 3 columns</p>\n",
       "</div>"
      ],
      "text/plain": [
       "     sentence_id    words       labels\n",
       "817          180      250  MEASUREMENT\n",
       "605          138      and            0\n",
       "66            17     want            0\n",
       "701          160        2  MEASUREMENT\n",
       "428          100   butter    FOOD_ITEM\n",
       "..           ...      ...          ...\n",
       "681          156    pasta    FOOD_ITEM\n",
       "783          174      and            0\n",
       "834          182        1  MEASUREMENT\n",
       "132           31      for            0\n",
       "216           51  looking            0\n",
       "\n",
       "[699 rows x 3 columns]"
      ]
     },
     "execution_count": 44,
     "metadata": {},
     "output_type": "execute_result"
    }
   ],
   "source": [
    "train_data"
   ]
  },
  {
   "cell_type": "code",
   "execution_count": 45,
   "id": "3c6ad0de-6f00-4c63-b34b-493da77a784c",
   "metadata": {},
   "outputs": [],
   "source": [
    "from simpletransformers.ner import NERModel,NERArgs\n",
    "# https://simpletransformers.ai/docs/ner-model/"
   ]
  },
  {
   "cell_type": "code",
   "execution_count": 46,
   "id": "23c0950d-2d1d-4f1a-a38c-ecf2009d509e",
   "metadata": {},
   "outputs": [
    {
     "data": {
      "text/plain": [
       "['0', 'MEASUREMENT', 'FOOD_ITEM']"
      ]
     },
     "execution_count": 46,
     "metadata": {},
     "output_type": "execute_result"
    }
   ],
   "source": [
    "label = data[\"labels\"].unique().tolist()\n",
    "label"
   ]
  },
  {
   "cell_type": "code",
   "execution_count": 47,
   "id": "9caa4ea6-a4d9-4017-a08f-ea82f0633235",
   "metadata": {},
   "outputs": [],
   "source": [
    "\n",
    "args = NERArgs()\n",
    "args.num_train_epochs = 3\n",
    "args.learning_rate = 1e-4\n",
    "args.overwrite_output_dir =True\n",
    "args.train_batch_size = 16\n",
    "args.eval_batch_size = 16"
   ]
  },
  {
   "cell_type": "code",
   "execution_count": 48,
   "id": "be8832ad-3dc1-440f-865e-93fdf8e85a98",
   "metadata": {},
   "outputs": [
    {
     "name": "stderr",
     "output_type": "stream",
     "text": [
      "Some weights of BertForTokenClassification were not initialized from the model checkpoint at bert-base-cased and are newly initialized: ['classifier.bias', 'classifier.weight']\n",
      "You should probably TRAIN this model on a down-stream task to be able to use it for predictions and inference.\n"
     ]
    }
   ],
   "source": [
    "model = NERModel('bert', 'bert-base-cased',labels=label,args =args,  use_cuda=False)"
   ]
  },
  {
   "cell_type": "code",
   "execution_count": 49,
   "id": "be625ed7-75c5-49b7-93cd-74f3cb961556",
   "metadata": {},
   "outputs": [
    {
     "name": "stderr",
     "output_type": "stream",
     "text": [
      "100%|████████████████████████████████████████████████████████████████████████████████████████████████████████████████████████████████████████████████████████████████████████| 1/1 [00:00<00:00, 33.40it/s]\n",
      "Epoch 1 of 3:   0%|                                                                                                                                                                  | 0/3 [00:00<?, ?it/s]\n",
      "Running Epoch 0 of 3:   0%|                                                                                                                                                          | 0/6 [00:00<?, ?it/s]\u001b[A\n",
      "Epochs 0/3. Running Loss:    1.0947:   0%|                                                                                                                                           | 0/6 [00:01<?, ?it/s]\u001b[A\n",
      "Epochs 0/3. Running Loss:    1.0947:  17%|█████████████████████▊                                                                                                             | 1/6 [00:04<00:20,  4.19s/it]\u001b[A\n",
      "Epochs 0/3. Running Loss:    1.1138:  17%|█████████████████████▊                                                                                                             | 1/6 [00:05<00:20,  4.19s/it]\u001b[A\n",
      "Epochs 0/3. Running Loss:    1.1138:  33%|███████████████████████████████████████████▋                                                                                       | 2/6 [00:08<00:17,  4.25s/it]\u001b[A\n",
      "Epochs 0/3. Running Loss:    0.8366:  33%|███████████████████████████████████████████▋                                                                                       | 2/6 [00:09<00:17,  4.25s/it]\u001b[A\n",
      "Epochs 0/3. Running Loss:    0.8366:  50%|█████████████████████████████████████████████████████████████████▌                                                                 | 3/6 [00:12<00:12,  4.22s/it]\u001b[A\n",
      "Epochs 0/3. Running Loss:    0.8440:  50%|█████████████████████████████████████████████████████████████████▌                                                                 | 3/6 [00:13<00:12,  4.22s/it]\u001b[A\n",
      "Epochs 0/3. Running Loss:    0.8440:  67%|███████████████████████████████████████████████████████████████████████████████████████▎                                           | 4/6 [00:16<00:08,  4.16s/it]\u001b[A\n",
      "Epochs 0/3. Running Loss:    0.5855:  67%|███████████████████████████████████████████████████████████████████████████████████████▎                                           | 4/6 [00:17<00:08,  4.16s/it]\u001b[A\n",
      "Epochs 0/3. Running Loss:    0.5855:  83%|█████████████████████████████████████████████████████████████████████████████████████████████████████████████▏                     | 5/6 [00:20<00:04,  4.14s/it]\u001b[A\n",
      "Epochs 0/3. Running Loss:    0.4910:  83%|█████████████████████████████████████████████████████████████████████████████████████████████████████████████▏                     | 5/6 [00:21<00:04,  4.14s/it]\u001b[A\n",
      "Epochs 0/3. Running Loss:    0.4910: 100%|███████████████████████████████████████████████████████████████████████████████████████████████████████████████████████████████████| 6/6 [00:24<00:00,  4.06s/it]\u001b[A\n",
      "Epoch 2 of 3:  33%|███████████████████████████████████████████████████▎                                                                                                      | 1/3 [00:25<00:51, 25.70s/it]\n",
      "Running Epoch 1 of 3:   0%|                                                                                                                                                          | 0/6 [00:00<?, ?it/s]\u001b[A\n",
      "Epochs 1/3. Running Loss:    0.2502:   0%|                                                                                                                                           | 0/6 [00:01<?, ?it/s]\u001b[A\n",
      "Epochs 1/3. Running Loss:    0.2502:  17%|█████████████████████▊                                                                                                             | 1/6 [00:04<00:21,  4.21s/it]\u001b[A\n",
      "Epochs 1/3. Running Loss:    0.3507:  17%|█████████████████████▊                                                                                                             | 1/6 [00:05<00:21,  4.21s/it]\u001b[A\n",
      "Epochs 1/3. Running Loss:    0.3507:  33%|███████████████████████████████████████████▋                                                                                       | 2/6 [00:08<00:17,  4.26s/it]\u001b[A\n",
      "Epochs 1/3. Running Loss:    0.1944:  33%|███████████████████████████████████████████▋                                                                                       | 2/6 [00:09<00:17,  4.26s/it]\u001b[A\n",
      "Epochs 1/3. Running Loss:    0.1944:  50%|█████████████████████████████████████████████████████████████████▌                                                                 | 3/6 [00:12<00:12,  4.12s/it]\u001b[A\n",
      "Epochs 1/3. Running Loss:    0.2333:  50%|█████████████████████████████████████████████████████████████████▌                                                                 | 3/6 [00:13<00:12,  4.12s/it]\u001b[A\n",
      "Epochs 1/3. Running Loss:    0.2333:  67%|███████████████████████████████████████████████████████████████████████████████████████▎                                           | 4/6 [00:16<00:08,  4.15s/it]\u001b[A\n",
      "Epochs 1/3. Running Loss:    0.2466:  67%|███████████████████████████████████████████████████████████████████████████████████████▎                                           | 4/6 [00:18<00:08,  4.15s/it]\u001b[A\n",
      "Epochs 1/3. Running Loss:    0.2466:  83%|█████████████████████████████████████████████████████████████████████████████████████████████████████████████▏                     | 5/6 [00:20<00:04,  4.16s/it]\u001b[A\n",
      "Epochs 1/3. Running Loss:    0.2593:  83%|█████████████████████████████████████████████████████████████████████████████████████████████████████████████▏                     | 5/6 [00:21<00:04,  4.16s/it]\u001b[A\n",
      "Epochs 1/3. Running Loss:    0.2593: 100%|███████████████████████████████████████████████████████████████████████████████████████████████████████████████████████████████████| 6/6 [00:24<00:00,  4.06s/it]\u001b[A\n",
      "Epoch 3 of 3:  67%|██████████████████████████████████████████████████████████████████████████████████████████████████████▋                                                   | 2/3 [00:51<00:25, 25.72s/it]\n",
      "Running Epoch 2 of 3:   0%|                                                                                                                                                          | 0/6 [00:00<?, ?it/s]\u001b[A\n",
      "Epochs 2/3. Running Loss:    0.1178:   0%|                                                                                                                                           | 0/6 [00:01<?, ?it/s]\u001b[A\n",
      "Epochs 2/3. Running Loss:    0.1178:  17%|█████████████████████▊                                                                                                             | 1/6 [00:04<00:24,  4.89s/it]\u001b[A\n",
      "Epochs 2/3. Running Loss:    0.1765:  17%|█████████████████████▊                                                                                                             | 1/6 [00:06<00:24,  4.89s/it]\u001b[A\n",
      "Epochs 2/3. Running Loss:    0.1765:  33%|███████████████████████████████████████████▋                                                                                       | 2/6 [00:09<00:18,  4.60s/it]\u001b[A\n",
      "Epochs 2/3. Running Loss:    0.1001:  33%|███████████████████████████████████████████▋                                                                                       | 2/6 [00:10<00:18,  4.60s/it]\u001b[A\n",
      "Epochs 2/3. Running Loss:    0.1001:  50%|█████████████████████████████████████████████████████████████████▌                                                                 | 3/6 [00:13<00:13,  4.57s/it]\u001b[A\n",
      "Epochs 2/3. Running Loss:    0.0803:  50%|█████████████████████████████████████████████████████████████████▌                                                                 | 3/6 [00:15<00:13,  4.57s/it]\u001b[A\n",
      "Epochs 2/3. Running Loss:    0.0803:  67%|███████████████████████████████████████████████████████████████████████████████████████▎                                           | 4/6 [00:18<00:09,  4.72s/it]\u001b[A\n",
      "Epochs 2/3. Running Loss:    0.0968:  67%|███████████████████████████████████████████████████████████████████████████████████████▎                                           | 4/6 [00:20<00:09,  4.72s/it]\u001b[A\n",
      "Epochs 2/3. Running Loss:    0.0968:  83%|█████████████████████████████████████████████████████████████████████████████████████████████████████████████▏                     | 5/6 [00:23<00:04,  4.59s/it]\u001b[A\n",
      "Epochs 2/3. Running Loss:    0.0989:  83%|█████████████████████████████████████████████████████████████████████████████████████████████████████████████▏                     | 5/6 [00:24<00:04,  4.59s/it]\u001b[A\n",
      "Epochs 2/3. Running Loss:    0.0989: 100%|███████████████████████████████████████████████████████████████████████████████████████████████████████████████████████████████████| 6/6 [00:26<00:00,  4.45s/it]\u001b[A\n",
      "Epoch 3 of 3: 100%|██████████████████████████████████████████████████████████████████████████████████████████████████████████████████████████████████████████████████████████| 3/3 [01:19<00:00, 26.48s/it]\n"
     ]
    },
    {
     "data": {
      "text/plain": [
       "(18, 0.39836522357331383)"
      ]
     },
     "execution_count": 49,
     "metadata": {},
     "output_type": "execute_result"
    }
   ],
   "source": [
    "model.train_model(\n",
    "    train_data,\n",
    "    eval_data = test_data,\n",
    "    acc=accuracy_score,\n",
    "    output_dir='grocery_model'\n",
    ")"
   ]
  },
  {
   "cell_type": "code",
   "execution_count": 50,
   "id": "4b5e1144-f46d-48eb-aa05-a6952eaea9b0",
   "metadata": {},
   "outputs": [
    {
     "name": "stderr",
     "output_type": "stream",
     "text": [
      "100%|████████████████████████████████████████████████████████████████████████████████████████████████████████████████████████████████████████████████████████████████████████| 1/1 [00:00<00:00, 53.27it/s]\n",
      "Running Evaluation: 100%|████████████████████████████████████████████████████████████████████████████████████████████████████████████████████████████████████████████████████| 5/5 [00:05<00:00,  1.07s/it]\n",
      "/home/rajaraman/miniconda3/envs/dl39/lib/python3.9/site-packages/seqeval/metrics/sequence_labeling.py:171: UserWarning: 0 seems not to be NE tag.\n",
      "  warnings.warn('{} seems not to be NE tag.'.format(chunk))\n",
      "/home/rajaraman/miniconda3/envs/dl39/lib/python3.9/site-packages/seqeval/metrics/sequence_labeling.py:171: UserWarning: FOOD_ITEM seems not to be NE tag.\n",
      "  warnings.warn('{} seems not to be NE tag.'.format(chunk))\n",
      "/home/rajaraman/miniconda3/envs/dl39/lib/python3.9/site-packages/seqeval/metrics/sequence_labeling.py:171: UserWarning: MEASUREMENT seems not to be NE tag.\n",
      "  warnings.warn('{} seems not to be NE tag.'.format(chunk))\n"
     ]
    }
   ],
   "source": [
    "result, model_outputs, preds_list = model.eval_model(test_data)\n"
   ]
  },
  {
   "cell_type": "code",
   "execution_count": 51,
   "id": "4cd3756e-f869-4128-aefc-4b97ae2454de",
   "metadata": {},
   "outputs": [
    {
     "data": {
      "text/plain": [
       "{'eval_loss': 0.14663984701037408,\n",
       " 'precision': 0.8941176470588236,\n",
       " 'recall': 0.8735632183908046,\n",
       " 'f1_score': 0.8837209302325582}"
      ]
     },
     "execution_count": 51,
     "metadata": {},
     "output_type": "execute_result"
    }
   ],
   "source": [
    "result"
   ]
  },
  {
   "cell_type": "code",
   "execution_count": 52,
   "id": "3bc3274c-11d1-4392-b6e6-97718cf6250e",
   "metadata": {},
   "outputs": [
    {
     "name": "stderr",
     "output_type": "stream",
     "text": [
      "100%|████████████████████████████████████████████████████████████████████████████████████████████████████████████████████████████████████████████████████████████████████████| 1/1 [00:00<00:00, 90.59it/s]\n",
      "Running Prediction: 100%|████████████████████████████████████████████████████████████████████████████████████████████████████████████████████████████████████████████████████| 1/1 [00:00<00:00,  7.78it/s]\n"
     ]
    }
   ],
   "source": [
    "prediction, model_output = model.predict([\"What is the new name of Bangalore\"])\n"
   ]
  },
  {
   "cell_type": "code",
   "execution_count": 28,
   "id": "1a84f7a6-5716-4296-a569-e91f95d6ce5b",
   "metadata": {},
   "outputs": [
    {
     "data": {
      "text/plain": [
       "[[{'What': '0'},\n",
       "  {'is': '0'},\n",
       "  {'the': '0'},\n",
       "  {'new': '0'},\n",
       "  {'name': '0'},\n",
       "  {'of': '0'},\n",
       "  {'Bangalore': '0'}]]"
      ]
     },
     "execution_count": 28,
     "metadata": {},
     "output_type": "execute_result"
    }
   ],
   "source": [
    "prediction\n"
   ]
  },
  {
   "cell_type": "code",
   "execution_count": 29,
   "id": "5f462b7c-4873-4f8b-87e2-b5cbe6bc3962",
   "metadata": {},
   "outputs": [],
   "source": [
    "# https://docs.google.com/spreadsheets/d/1JOK1mFmOZb1S3sf-6VDSkqlxZhc31OcAAXYv51823FE/edit#gid=0"
   ]
  },
  {
   "cell_type": "code",
   "execution_count": 30,
   "id": "66a0d3c3-612b-4853-8c29-c21be7aef828",
   "metadata": {},
   "outputs": [
    {
     "name": "stderr",
     "output_type": "stream",
     "text": [
      "100%|████████████████████████████████████████████████████████████████████████████████████████████████████████████████████████████████████████████████████████████████████████| 1/1 [00:00<00:00, 98.45it/s]\n",
      "Running Prediction: 100%|████████████████████████████████████████████████████████████████████████████████████████████████████████████████████████████████████████████████████| 1/1 [00:00<00:00, 11.84it/s]\n"
     ]
    }
   ],
   "source": [
    "prediction, model_output = model.predict([\"I want a dozen eggs and a packet of rice.\"])"
   ]
  },
  {
   "cell_type": "code",
   "execution_count": 31,
   "id": "ed405780-8448-4b4d-974f-9ef042501e72",
   "metadata": {},
   "outputs": [
    {
     "data": {
      "text/plain": [
       "[[{'I': [[4.4133263, -0.8203807, -3.2260625]]},\n",
       "  {'want': [[4.5140123, -0.92833894, -2.734099]]},\n",
       "  {'a': [[2.8099782, 0.15122761, -2.0815275]]},\n",
       "  {'dozen': [[-0.4349795, 0.7713961, -0.84838283]]},\n",
       "  {'eggs': [[-0.71776915, -1.3596101, 2.7439942]]},\n",
       "  {'and': [[4.3686996, -0.9077136, -2.774895]]},\n",
       "  {'a': [[3.1165352, -0.096107274, -2.4683878]]},\n",
       "  {'packet': [[1.0510769, -0.6539463, -0.16408028]]},\n",
       "  {'of': [[3.6002073, -1.0197564, -2.2097425]]},\n",
       "  {'rice.': [[-0.8100081, -1.5629466, 3.5673077],\n",
       "    [4.102978, -0.842257, -2.69593]]}]]"
      ]
     },
     "execution_count": 31,
     "metadata": {},
     "output_type": "execute_result"
    }
   ],
   "source": [
    "model_output"
   ]
  },
  {
   "cell_type": "code",
   "execution_count": 32,
   "id": "deb4de49-54c7-4699-90b7-af731d1e32ec",
   "metadata": {},
   "outputs": [
    {
     "data": {
      "text/plain": [
       "[[{'I': '0'},\n",
       "  {'want': '0'},\n",
       "  {'a': '0'},\n",
       "  {'dozen': 'MEASUREMENT'},\n",
       "  {'eggs': 'FOOD_ITEM'},\n",
       "  {'and': '0'},\n",
       "  {'a': '0'},\n",
       "  {'packet': '0'},\n",
       "  {'of': '0'},\n",
       "  {'rice.': 'FOOD_ITEM'}]]"
      ]
     },
     "execution_count": 32,
     "metadata": {},
     "output_type": "execute_result"
    }
   ],
   "source": [
    "prediction"
   ]
  },
  {
   "cell_type": "code",
   "execution_count": null,
   "id": "1eeb332e-cd1a-4a8f-9df3-32c70e8fa93d",
   "metadata": {},
   "outputs": [],
   "source": []
  }
 ],
 "metadata": {
  "kernelspec": {
   "display_name": "Python 3 (ipykernel)",
   "language": "python",
   "name": "python3"
  },
  "language_info": {
   "codemirror_mode": {
    "name": "ipython",
    "version": 3
   },
   "file_extension": ".py",
   "mimetype": "text/x-python",
   "name": "python",
   "nbconvert_exporter": "python",
   "pygments_lexer": "ipython3",
   "version": "3.9.17"
  }
 },
 "nbformat": 4,
 "nbformat_minor": 5
}
