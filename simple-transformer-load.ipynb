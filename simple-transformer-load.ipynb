{
 "cells": [
  {
   "cell_type": "code",
   "execution_count": 1,
   "id": "4de76feb-0ef3-44ec-acd2-cdcc89fc2631",
   "metadata": {},
   "outputs": [],
   "source": [
    "'''\n",
    "https://docs.google.com/spreadsheets/d/1JOK1mFmOZb1S3sf-6VDSkqlxZhc31OcAAXYv51823FE/edit#gid=0\n",
    "\n",
    "https://towardsdatascience.com/simple-transformers-named-entity-recognition-with-transformer-models-c04b9242a2a0\n",
    "'''"
   ]
  },
  {
   "cell_type": "code",
   "execution_count": 3,
   "id": "433493ba-5f8a-45b4-a51e-edf1e33beace",
   "metadata": {},
   "outputs": [
    {
     "name": "stderr",
     "output_type": "stream",
     "text": [
      "/home/rajaraman/miniconda3/envs/dl39/lib/python3.9/site-packages/tqdm/auto.py:22: TqdmWarning: IProgress not found. Please update jupyter and ipywidgets. See https://ipywidgets.readthedocs.io/en/stable/user_install.html\n",
      "  from .autonotebook import tqdm as notebook_tqdm\n"
     ]
    }
   ],
   "source": [
    "from simpletransformers.ner import NERModel,NERArgs"
   ]
  },
  {
   "cell_type": "code",
   "execution_count": 7,
   "id": "9e87c863-9601-4716-86a4-1d429b73b9db",
   "metadata": {},
   "outputs": [],
   "source": [
    "model = NERModel('bert', 'outputs/', use_cuda=False)"
   ]
  },
  {
   "cell_type": "code",
   "execution_count": 10,
   "id": "3335be9b-042f-42a3-9893-7d0c7fee7f1e",
   "metadata": {},
   "outputs": [
    {
     "name": "stderr",
     "output_type": "stream",
     "text": [
      "100%|███████████████████████████████████████████████████████████████████████████████████████████████████████████████████████████████████████████████████████████████████████| 1/1 [00:00<00:00, 104.20it/s]\n",
      "Running Prediction: 100%|████████████████████████████████████████████████████████████████████████████████████████████████████████████████████████████████████████████████████| 1/1 [00:00<00:00,  7.78it/s]\n"
     ]
    }
   ],
   "source": [
    "prediction, model_output = model.predict([\"I want to get ground cinnamon, ground cumin, and smoked paprika.\"])"
   ]
  },
  {
   "cell_type": "code",
   "execution_count": 9,
   "id": "4e65ea87-f6be-457b-8f75-e3944237d221",
   "metadata": {},
   "outputs": [
    {
     "data": {
      "text/plain": [
       "[[{'I': '0'},\n",
       "  {'want': '0'},\n",
       "  {'a': '0'},\n",
       "  {'dozen': 'MEASUREMENT'},\n",
       "  {'eggs': 'FOOD_ITEM'},\n",
       "  {'and': '0'},\n",
       "  {'a': '0'},\n",
       "  {'packet': '0'},\n",
       "  {'of': '0'},\n",
       "  {'rice.': 'FOOD_ITEM'}]]"
      ]
     },
     "execution_count": 9,
     "metadata": {},
     "output_type": "execute_result"
    }
   ],
   "source": [
    "prediction"
   ]
  },
  {
   "cell_type": "code",
   "execution_count": null,
   "id": "b5704e05-f5e1-4426-b704-ce4400ff0180",
   "metadata": {},
   "outputs": [],
   "source": []
  }
 ],
 "metadata": {
  "kernelspec": {
   "display_name": "Python 3 (ipykernel)",
   "language": "python",
   "name": "python3"
  },
  "language_info": {
   "codemirror_mode": {
    "name": "ipython",
    "version": 3
   },
   "file_extension": ".py",
   "mimetype": "text/x-python",
   "name": "python",
   "nbconvert_exporter": "python",
   "pygments_lexer": "ipython3",
   "version": "3.9.17"
  }
 },
 "nbformat": 4,
 "nbformat_minor": 5
}
